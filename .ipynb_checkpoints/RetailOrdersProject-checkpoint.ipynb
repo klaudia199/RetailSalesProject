{
 "cells": [
  {
   "cell_type": "code",
   "execution_count": 1,
   "id": "515afc00-14ce-4e5b-abbc-436b654a26c7",
   "metadata": {},
   "outputs": [],
   "source": [
    "import pandas as pd\n",
    "import numpy as np"
   ]
  },
  {
   "cell_type": "code",
   "execution_count": 2,
   "id": "d6172b46-b9cf-4bb2-aed3-5ac080ce58fd",
   "metadata": {},
   "outputs": [],
   "source": [
    "import matplotlib as plt\n",
    "%matplotlib inline"
   ]
  },
  {
   "cell_type": "markdown",
   "id": "bf5d5845-fed1-4bb3-adf7-8200ed1a3e81",
   "metadata": {},
   "source": [
    "### import and data preparation"
   ]
  },
  {
   "cell_type": "code",
   "execution_count": 4,
   "id": "ac7f5ee2-be60-4542-a9f7-c3a202a605c3",
   "metadata": {},
   "outputs": [],
   "source": [
    "order = pd.read_csv(r\"C:\\Users\\admar\\Documents\\retailOrdersProject\\orders.csv\")"
   ]
  },
  {
   "cell_type": "code",
   "execution_count": 5,
   "id": "a6931b2f-fd3a-47fd-8827-1a14f799ab08",
   "metadata": {},
   "outputs": [
    {
     "data": {
      "text/html": [
       "<div>\n",
       "<style scoped>\n",
       "    .dataframe tbody tr th:only-of-type {\n",
       "        vertical-align: middle;\n",
       "    }\n",
       "\n",
       "    .dataframe tbody tr th {\n",
       "        vertical-align: top;\n",
       "    }\n",
       "\n",
       "    .dataframe thead th {\n",
       "        text-align: right;\n",
       "    }\n",
       "</style>\n",
       "<table border=\"1\" class=\"dataframe\">\n",
       "  <thead>\n",
       "    <tr style=\"text-align: right;\">\n",
       "      <th></th>\n",
       "      <th>Order Id</th>\n",
       "      <th>Order Date</th>\n",
       "      <th>Ship Mode</th>\n",
       "      <th>Segment</th>\n",
       "      <th>Country</th>\n",
       "      <th>City</th>\n",
       "      <th>State</th>\n",
       "      <th>Postal Code</th>\n",
       "      <th>Region</th>\n",
       "      <th>Category</th>\n",
       "      <th>Sub Category</th>\n",
       "      <th>Product Id</th>\n",
       "      <th>cost price</th>\n",
       "      <th>List Price</th>\n",
       "      <th>Quantity</th>\n",
       "      <th>Discount Percent</th>\n",
       "    </tr>\n",
       "  </thead>\n",
       "  <tbody>\n",
       "    <tr>\n",
       "      <th>0</th>\n",
       "      <td>1</td>\n",
       "      <td>2023-03-01</td>\n",
       "      <td>Second Class</td>\n",
       "      <td>Consumer</td>\n",
       "      <td>United States</td>\n",
       "      <td>Henderson</td>\n",
       "      <td>Kentucky</td>\n",
       "      <td>42420</td>\n",
       "      <td>South</td>\n",
       "      <td>Furniture</td>\n",
       "      <td>Bookcases</td>\n",
       "      <td>FUR-BO-10001798</td>\n",
       "      <td>240</td>\n",
       "      <td>260</td>\n",
       "      <td>2</td>\n",
       "      <td>2</td>\n",
       "    </tr>\n",
       "    <tr>\n",
       "      <th>1</th>\n",
       "      <td>2</td>\n",
       "      <td>2023-08-15</td>\n",
       "      <td>Second Class</td>\n",
       "      <td>Consumer</td>\n",
       "      <td>United States</td>\n",
       "      <td>Henderson</td>\n",
       "      <td>Kentucky</td>\n",
       "      <td>42420</td>\n",
       "      <td>South</td>\n",
       "      <td>Furniture</td>\n",
       "      <td>Chairs</td>\n",
       "      <td>FUR-CH-10000454</td>\n",
       "      <td>600</td>\n",
       "      <td>730</td>\n",
       "      <td>3</td>\n",
       "      <td>3</td>\n",
       "    </tr>\n",
       "    <tr>\n",
       "      <th>2</th>\n",
       "      <td>3</td>\n",
       "      <td>2023-01-10</td>\n",
       "      <td>Second Class</td>\n",
       "      <td>Corporate</td>\n",
       "      <td>United States</td>\n",
       "      <td>Los Angeles</td>\n",
       "      <td>California</td>\n",
       "      <td>90036</td>\n",
       "      <td>West</td>\n",
       "      <td>Office Supplies</td>\n",
       "      <td>Labels</td>\n",
       "      <td>OFF-LA-10000240</td>\n",
       "      <td>10</td>\n",
       "      <td>10</td>\n",
       "      <td>2</td>\n",
       "      <td>5</td>\n",
       "    </tr>\n",
       "    <tr>\n",
       "      <th>3</th>\n",
       "      <td>4</td>\n",
       "      <td>2022-06-18</td>\n",
       "      <td>Standard Class</td>\n",
       "      <td>Consumer</td>\n",
       "      <td>United States</td>\n",
       "      <td>Fort Lauderdale</td>\n",
       "      <td>Florida</td>\n",
       "      <td>33311</td>\n",
       "      <td>South</td>\n",
       "      <td>Furniture</td>\n",
       "      <td>Tables</td>\n",
       "      <td>FUR-TA-10000577</td>\n",
       "      <td>780</td>\n",
       "      <td>960</td>\n",
       "      <td>5</td>\n",
       "      <td>2</td>\n",
       "    </tr>\n",
       "    <tr>\n",
       "      <th>4</th>\n",
       "      <td>5</td>\n",
       "      <td>2022-07-13</td>\n",
       "      <td>Standard Class</td>\n",
       "      <td>Consumer</td>\n",
       "      <td>United States</td>\n",
       "      <td>Fort Lauderdale</td>\n",
       "      <td>Florida</td>\n",
       "      <td>33311</td>\n",
       "      <td>South</td>\n",
       "      <td>Office Supplies</td>\n",
       "      <td>Storage</td>\n",
       "      <td>OFF-ST-10000760</td>\n",
       "      <td>20</td>\n",
       "      <td>20</td>\n",
       "      <td>2</td>\n",
       "      <td>5</td>\n",
       "    </tr>\n",
       "  </tbody>\n",
       "</table>\n",
       "</div>"
      ],
      "text/plain": [
       "   Order Id  Order Date       Ship Mode    Segment        Country  \\\n",
       "0         1  2023-03-01    Second Class   Consumer  United States   \n",
       "1         2  2023-08-15    Second Class   Consumer  United States   \n",
       "2         3  2023-01-10    Second Class  Corporate  United States   \n",
       "3         4  2022-06-18  Standard Class   Consumer  United States   \n",
       "4         5  2022-07-13  Standard Class   Consumer  United States   \n",
       "\n",
       "              City       State  Postal Code Region         Category  \\\n",
       "0        Henderson    Kentucky        42420  South        Furniture   \n",
       "1        Henderson    Kentucky        42420  South        Furniture   \n",
       "2      Los Angeles  California        90036   West  Office Supplies   \n",
       "3  Fort Lauderdale     Florida        33311  South        Furniture   \n",
       "4  Fort Lauderdale     Florida        33311  South  Office Supplies   \n",
       "\n",
       "  Sub Category       Product Id  cost price  List Price  Quantity  \\\n",
       "0    Bookcases  FUR-BO-10001798         240         260         2   \n",
       "1       Chairs  FUR-CH-10000454         600         730         3   \n",
       "2       Labels  OFF-LA-10000240          10          10         2   \n",
       "3       Tables  FUR-TA-10000577         780         960         5   \n",
       "4      Storage  OFF-ST-10000760          20          20         2   \n",
       "\n",
       "   Discount Percent  \n",
       "0                 2  \n",
       "1                 3  \n",
       "2                 5  \n",
       "3                 2  \n",
       "4                 5  "
      ]
     },
     "execution_count": 5,
     "metadata": {},
     "output_type": "execute_result"
    }
   ],
   "source": [
    "order.head()"
   ]
  },
  {
   "cell_type": "code",
   "execution_count": 6,
   "id": "edbf4331-0337-4777-926f-515585552070",
   "metadata": {},
   "outputs": [
    {
     "data": {
      "text/html": [
       "<div>\n",
       "<style scoped>\n",
       "    .dataframe tbody tr th:only-of-type {\n",
       "        vertical-align: middle;\n",
       "    }\n",
       "\n",
       "    .dataframe tbody tr th {\n",
       "        vertical-align: top;\n",
       "    }\n",
       "\n",
       "    .dataframe thead th {\n",
       "        text-align: right;\n",
       "    }\n",
       "</style>\n",
       "<table border=\"1\" class=\"dataframe\">\n",
       "  <thead>\n",
       "    <tr style=\"text-align: right;\">\n",
       "      <th></th>\n",
       "      <th>Order Id</th>\n",
       "      <th>Order Date</th>\n",
       "      <th>Ship Mode</th>\n",
       "      <th>Segment</th>\n",
       "      <th>Country</th>\n",
       "      <th>City</th>\n",
       "      <th>State</th>\n",
       "      <th>Postal Code</th>\n",
       "      <th>Region</th>\n",
       "      <th>Category</th>\n",
       "      <th>Sub Category</th>\n",
       "      <th>Product Id</th>\n",
       "      <th>cost price</th>\n",
       "      <th>List Price</th>\n",
       "      <th>Quantity</th>\n",
       "      <th>Discount Percent</th>\n",
       "    </tr>\n",
       "  </thead>\n",
       "  <tbody>\n",
       "    <tr>\n",
       "      <th>0</th>\n",
       "      <td>False</td>\n",
       "      <td>False</td>\n",
       "      <td>False</td>\n",
       "      <td>False</td>\n",
       "      <td>False</td>\n",
       "      <td>False</td>\n",
       "      <td>False</td>\n",
       "      <td>False</td>\n",
       "      <td>False</td>\n",
       "      <td>False</td>\n",
       "      <td>False</td>\n",
       "      <td>False</td>\n",
       "      <td>False</td>\n",
       "      <td>False</td>\n",
       "      <td>False</td>\n",
       "      <td>False</td>\n",
       "    </tr>\n",
       "    <tr>\n",
       "      <th>1</th>\n",
       "      <td>False</td>\n",
       "      <td>False</td>\n",
       "      <td>False</td>\n",
       "      <td>False</td>\n",
       "      <td>False</td>\n",
       "      <td>False</td>\n",
       "      <td>False</td>\n",
       "      <td>False</td>\n",
       "      <td>False</td>\n",
       "      <td>False</td>\n",
       "      <td>False</td>\n",
       "      <td>False</td>\n",
       "      <td>False</td>\n",
       "      <td>False</td>\n",
       "      <td>False</td>\n",
       "      <td>False</td>\n",
       "    </tr>\n",
       "    <tr>\n",
       "      <th>2</th>\n",
       "      <td>False</td>\n",
       "      <td>False</td>\n",
       "      <td>False</td>\n",
       "      <td>False</td>\n",
       "      <td>False</td>\n",
       "      <td>False</td>\n",
       "      <td>False</td>\n",
       "      <td>False</td>\n",
       "      <td>False</td>\n",
       "      <td>False</td>\n",
       "      <td>False</td>\n",
       "      <td>False</td>\n",
       "      <td>False</td>\n",
       "      <td>False</td>\n",
       "      <td>False</td>\n",
       "      <td>False</td>\n",
       "    </tr>\n",
       "    <tr>\n",
       "      <th>3</th>\n",
       "      <td>False</td>\n",
       "      <td>False</td>\n",
       "      <td>False</td>\n",
       "      <td>False</td>\n",
       "      <td>False</td>\n",
       "      <td>False</td>\n",
       "      <td>False</td>\n",
       "      <td>False</td>\n",
       "      <td>False</td>\n",
       "      <td>False</td>\n",
       "      <td>False</td>\n",
       "      <td>False</td>\n",
       "      <td>False</td>\n",
       "      <td>False</td>\n",
       "      <td>False</td>\n",
       "      <td>False</td>\n",
       "    </tr>\n",
       "    <tr>\n",
       "      <th>4</th>\n",
       "      <td>False</td>\n",
       "      <td>False</td>\n",
       "      <td>False</td>\n",
       "      <td>False</td>\n",
       "      <td>False</td>\n",
       "      <td>False</td>\n",
       "      <td>False</td>\n",
       "      <td>False</td>\n",
       "      <td>False</td>\n",
       "      <td>False</td>\n",
       "      <td>False</td>\n",
       "      <td>False</td>\n",
       "      <td>False</td>\n",
       "      <td>False</td>\n",
       "      <td>False</td>\n",
       "      <td>False</td>\n",
       "    </tr>\n",
       "    <tr>\n",
       "      <th>...</th>\n",
       "      <td>...</td>\n",
       "      <td>...</td>\n",
       "      <td>...</td>\n",
       "      <td>...</td>\n",
       "      <td>...</td>\n",
       "      <td>...</td>\n",
       "      <td>...</td>\n",
       "      <td>...</td>\n",
       "      <td>...</td>\n",
       "      <td>...</td>\n",
       "      <td>...</td>\n",
       "      <td>...</td>\n",
       "      <td>...</td>\n",
       "      <td>...</td>\n",
       "      <td>...</td>\n",
       "      <td>...</td>\n",
       "    </tr>\n",
       "    <tr>\n",
       "      <th>9989</th>\n",
       "      <td>False</td>\n",
       "      <td>False</td>\n",
       "      <td>False</td>\n",
       "      <td>False</td>\n",
       "      <td>False</td>\n",
       "      <td>False</td>\n",
       "      <td>False</td>\n",
       "      <td>False</td>\n",
       "      <td>False</td>\n",
       "      <td>False</td>\n",
       "      <td>False</td>\n",
       "      <td>False</td>\n",
       "      <td>False</td>\n",
       "      <td>False</td>\n",
       "      <td>False</td>\n",
       "      <td>False</td>\n",
       "    </tr>\n",
       "    <tr>\n",
       "      <th>9990</th>\n",
       "      <td>False</td>\n",
       "      <td>False</td>\n",
       "      <td>False</td>\n",
       "      <td>False</td>\n",
       "      <td>False</td>\n",
       "      <td>False</td>\n",
       "      <td>False</td>\n",
       "      <td>False</td>\n",
       "      <td>False</td>\n",
       "      <td>False</td>\n",
       "      <td>False</td>\n",
       "      <td>False</td>\n",
       "      <td>False</td>\n",
       "      <td>False</td>\n",
       "      <td>False</td>\n",
       "      <td>False</td>\n",
       "    </tr>\n",
       "    <tr>\n",
       "      <th>9991</th>\n",
       "      <td>False</td>\n",
       "      <td>False</td>\n",
       "      <td>False</td>\n",
       "      <td>False</td>\n",
       "      <td>False</td>\n",
       "      <td>False</td>\n",
       "      <td>False</td>\n",
       "      <td>False</td>\n",
       "      <td>False</td>\n",
       "      <td>False</td>\n",
       "      <td>False</td>\n",
       "      <td>False</td>\n",
       "      <td>False</td>\n",
       "      <td>False</td>\n",
       "      <td>False</td>\n",
       "      <td>False</td>\n",
       "    </tr>\n",
       "    <tr>\n",
       "      <th>9992</th>\n",
       "      <td>False</td>\n",
       "      <td>False</td>\n",
       "      <td>False</td>\n",
       "      <td>False</td>\n",
       "      <td>False</td>\n",
       "      <td>False</td>\n",
       "      <td>False</td>\n",
       "      <td>False</td>\n",
       "      <td>False</td>\n",
       "      <td>False</td>\n",
       "      <td>False</td>\n",
       "      <td>False</td>\n",
       "      <td>False</td>\n",
       "      <td>False</td>\n",
       "      <td>False</td>\n",
       "      <td>False</td>\n",
       "    </tr>\n",
       "    <tr>\n",
       "      <th>9993</th>\n",
       "      <td>False</td>\n",
       "      <td>False</td>\n",
       "      <td>False</td>\n",
       "      <td>False</td>\n",
       "      <td>False</td>\n",
       "      <td>False</td>\n",
       "      <td>False</td>\n",
       "      <td>False</td>\n",
       "      <td>False</td>\n",
       "      <td>False</td>\n",
       "      <td>False</td>\n",
       "      <td>False</td>\n",
       "      <td>False</td>\n",
       "      <td>False</td>\n",
       "      <td>False</td>\n",
       "      <td>False</td>\n",
       "    </tr>\n",
       "  </tbody>\n",
       "</table>\n",
       "<p>9994 rows × 16 columns</p>\n",
       "</div>"
      ],
      "text/plain": [
       "      Order Id  Order Date  Ship Mode  Segment  Country   City  State  \\\n",
       "0        False       False      False    False    False  False  False   \n",
       "1        False       False      False    False    False  False  False   \n",
       "2        False       False      False    False    False  False  False   \n",
       "3        False       False      False    False    False  False  False   \n",
       "4        False       False      False    False    False  False  False   \n",
       "...        ...         ...        ...      ...      ...    ...    ...   \n",
       "9989     False       False      False    False    False  False  False   \n",
       "9990     False       False      False    False    False  False  False   \n",
       "9991     False       False      False    False    False  False  False   \n",
       "9992     False       False      False    False    False  False  False   \n",
       "9993     False       False      False    False    False  False  False   \n",
       "\n",
       "      Postal Code  Region  Category  Sub Category  Product Id  cost price  \\\n",
       "0           False   False     False         False       False       False   \n",
       "1           False   False     False         False       False       False   \n",
       "2           False   False     False         False       False       False   \n",
       "3           False   False     False         False       False       False   \n",
       "4           False   False     False         False       False       False   \n",
       "...           ...     ...       ...           ...         ...         ...   \n",
       "9989        False   False     False         False       False       False   \n",
       "9990        False   False     False         False       False       False   \n",
       "9991        False   False     False         False       False       False   \n",
       "9992        False   False     False         False       False       False   \n",
       "9993        False   False     False         False       False       False   \n",
       "\n",
       "      List Price  Quantity  Discount Percent  \n",
       "0          False     False             False  \n",
       "1          False     False             False  \n",
       "2          False     False             False  \n",
       "3          False     False             False  \n",
       "4          False     False             False  \n",
       "...          ...       ...               ...  \n",
       "9989       False     False             False  \n",
       "9990       False     False             False  \n",
       "9991       False     False             False  \n",
       "9992       False     False             False  \n",
       "9993       False     False             False  \n",
       "\n",
       "[9994 rows x 16 columns]"
      ]
     },
     "execution_count": 6,
     "metadata": {},
     "output_type": "execute_result"
    }
   ],
   "source": [
    "order.isnull()"
   ]
  },
  {
   "cell_type": "code",
   "execution_count": 7,
   "id": "28721bb6-71bf-4c1c-b2fb-e20fad5e2472",
   "metadata": {},
   "outputs": [
    {
     "name": "stdout",
     "output_type": "stream",
     "text": [
      "<class 'pandas.core.frame.DataFrame'>\n",
      "RangeIndex: 9994 entries, 0 to 9993\n",
      "Data columns (total 16 columns):\n",
      " #   Column            Non-Null Count  Dtype \n",
      "---  ------            --------------  ----- \n",
      " 0   Order Id          9994 non-null   int64 \n",
      " 1   Order Date        9994 non-null   object\n",
      " 2   Ship Mode         9993 non-null   object\n",
      " 3   Segment           9994 non-null   object\n",
      " 4   Country           9994 non-null   object\n",
      " 5   City              9994 non-null   object\n",
      " 6   State             9994 non-null   object\n",
      " 7   Postal Code       9994 non-null   int64 \n",
      " 8   Region            9994 non-null   object\n",
      " 9   Category          9994 non-null   object\n",
      " 10  Sub Category      9994 non-null   object\n",
      " 11  Product Id        9994 non-null   object\n",
      " 12  cost price        9994 non-null   int64 \n",
      " 13  List Price        9994 non-null   int64 \n",
      " 14  Quantity          9994 non-null   int64 \n",
      " 15  Discount Percent  9994 non-null   int64 \n",
      "dtypes: int64(6), object(10)\n",
      "memory usage: 1.2+ MB\n"
     ]
    }
   ],
   "source": [
    "order.info()"
   ]
  },
  {
   "cell_type": "code",
   "execution_count": 8,
   "id": "77cf8413-f435-49d3-b152-e26a0df8a3e1",
   "metadata": {},
   "outputs": [
    {
     "data": {
      "text/plain": [
       "array(['Second Class', 'Standard Class', 'Not Available', 'unknown',\n",
       "       'First Class', nan, 'Same Day'], dtype=object)"
      ]
     },
     "execution_count": 8,
     "metadata": {},
     "output_type": "execute_result"
    }
   ],
   "source": [
    "order['Ship Mode'].unique()"
   ]
  },
  {
   "cell_type": "markdown",
   "id": "bc92dbc0-7da2-4154-89fe-f3b95ded7fc9",
   "metadata": {},
   "source": [
    "#### changing ['Not Available', 'unknown'] to NaN"
   ]
  },
  {
   "cell_type": "code",
   "execution_count": 10,
   "id": "20192d6d-f711-4481-8865-fe88457ae51b",
   "metadata": {},
   "outputs": [],
   "source": [
    "isNotAvaliable = order['Ship Mode'] == 'Not Available'"
   ]
  },
  {
   "cell_type": "code",
   "execution_count": 11,
   "id": "aba1d566-b7a1-49d2-a632-5ba771c27241",
   "metadata": {},
   "outputs": [],
   "source": [
    "order.loc[isNotAvaliable,'Ship Mode'] = np.nan"
   ]
  },
  {
   "cell_type": "code",
   "execution_count": 12,
   "id": "9e7195e9-b93c-48bc-98b3-8afb1e0f7177",
   "metadata": {},
   "outputs": [],
   "source": [
    "isUnknown = order['Ship Mode'] == 'unknown'"
   ]
  },
  {
   "cell_type": "code",
   "execution_count": 13,
   "id": "26cfda82-271f-4422-8896-2b72b7ab848d",
   "metadata": {},
   "outputs": [],
   "source": [
    "order.loc[isUnknown,'Ship Mode'] = np.nan"
   ]
  },
  {
   "cell_type": "code",
   "execution_count": 14,
   "id": "90397df0-f011-45a4-ac82-c40e2fa29451",
   "metadata": {},
   "outputs": [
    {
     "data": {
      "text/plain": [
       "array(['Second Class', 'Standard Class', nan, 'First Class', 'Same Day'],\n",
       "      dtype=object)"
      ]
     },
     "execution_count": 14,
     "metadata": {},
     "output_type": "execute_result"
    }
   ],
   "source": [
    "order['Ship Mode'].unique()"
   ]
  },
  {
   "cell_type": "markdown",
   "id": "adb55615-23db-43e2-b230-d79b7edccd1e",
   "metadata": {},
   "source": [
    "#### changing the names columns"
   ]
  },
  {
   "cell_type": "code",
   "execution_count": 16,
   "id": "8b863e07-acec-4bed-aa03-1c21d26c9f4f",
   "metadata": {},
   "outputs": [],
   "source": [
    "order.columns = order.columns.str.lower()"
   ]
  },
  {
   "cell_type": "code",
   "execution_count": 17,
   "id": "ce320f71-126e-4b2d-8a4f-435dd848de9d",
   "metadata": {},
   "outputs": [],
   "source": [
    "order.columns = order.columns.str.replace(' ','_')"
   ]
  },
  {
   "cell_type": "code",
   "execution_count": 18,
   "id": "ea8035f8-515a-4387-bac3-310adddb4424",
   "metadata": {},
   "outputs": [
    {
     "data": {
      "text/html": [
       "<div>\n",
       "<style scoped>\n",
       "    .dataframe tbody tr th:only-of-type {\n",
       "        vertical-align: middle;\n",
       "    }\n",
       "\n",
       "    .dataframe tbody tr th {\n",
       "        vertical-align: top;\n",
       "    }\n",
       "\n",
       "    .dataframe thead th {\n",
       "        text-align: right;\n",
       "    }\n",
       "</style>\n",
       "<table border=\"1\" class=\"dataframe\">\n",
       "  <thead>\n",
       "    <tr style=\"text-align: right;\">\n",
       "      <th></th>\n",
       "      <th>order_id</th>\n",
       "      <th>order_date</th>\n",
       "      <th>ship_mode</th>\n",
       "      <th>segment</th>\n",
       "      <th>country</th>\n",
       "      <th>city</th>\n",
       "      <th>state</th>\n",
       "      <th>postal_code</th>\n",
       "      <th>region</th>\n",
       "      <th>category</th>\n",
       "      <th>sub_category</th>\n",
       "      <th>product_id</th>\n",
       "      <th>cost_price</th>\n",
       "      <th>list_price</th>\n",
       "      <th>quantity</th>\n",
       "      <th>discount_percent</th>\n",
       "    </tr>\n",
       "  </thead>\n",
       "  <tbody>\n",
       "    <tr>\n",
       "      <th>0</th>\n",
       "      <td>1</td>\n",
       "      <td>2023-03-01</td>\n",
       "      <td>Second Class</td>\n",
       "      <td>Consumer</td>\n",
       "      <td>United States</td>\n",
       "      <td>Henderson</td>\n",
       "      <td>Kentucky</td>\n",
       "      <td>42420</td>\n",
       "      <td>South</td>\n",
       "      <td>Furniture</td>\n",
       "      <td>Bookcases</td>\n",
       "      <td>FUR-BO-10001798</td>\n",
       "      <td>240</td>\n",
       "      <td>260</td>\n",
       "      <td>2</td>\n",
       "      <td>2</td>\n",
       "    </tr>\n",
       "    <tr>\n",
       "      <th>1</th>\n",
       "      <td>2</td>\n",
       "      <td>2023-08-15</td>\n",
       "      <td>Second Class</td>\n",
       "      <td>Consumer</td>\n",
       "      <td>United States</td>\n",
       "      <td>Henderson</td>\n",
       "      <td>Kentucky</td>\n",
       "      <td>42420</td>\n",
       "      <td>South</td>\n",
       "      <td>Furniture</td>\n",
       "      <td>Chairs</td>\n",
       "      <td>FUR-CH-10000454</td>\n",
       "      <td>600</td>\n",
       "      <td>730</td>\n",
       "      <td>3</td>\n",
       "      <td>3</td>\n",
       "    </tr>\n",
       "    <tr>\n",
       "      <th>2</th>\n",
       "      <td>3</td>\n",
       "      <td>2023-01-10</td>\n",
       "      <td>Second Class</td>\n",
       "      <td>Corporate</td>\n",
       "      <td>United States</td>\n",
       "      <td>Los Angeles</td>\n",
       "      <td>California</td>\n",
       "      <td>90036</td>\n",
       "      <td>West</td>\n",
       "      <td>Office Supplies</td>\n",
       "      <td>Labels</td>\n",
       "      <td>OFF-LA-10000240</td>\n",
       "      <td>10</td>\n",
       "      <td>10</td>\n",
       "      <td>2</td>\n",
       "      <td>5</td>\n",
       "    </tr>\n",
       "    <tr>\n",
       "      <th>3</th>\n",
       "      <td>4</td>\n",
       "      <td>2022-06-18</td>\n",
       "      <td>Standard Class</td>\n",
       "      <td>Consumer</td>\n",
       "      <td>United States</td>\n",
       "      <td>Fort Lauderdale</td>\n",
       "      <td>Florida</td>\n",
       "      <td>33311</td>\n",
       "      <td>South</td>\n",
       "      <td>Furniture</td>\n",
       "      <td>Tables</td>\n",
       "      <td>FUR-TA-10000577</td>\n",
       "      <td>780</td>\n",
       "      <td>960</td>\n",
       "      <td>5</td>\n",
       "      <td>2</td>\n",
       "    </tr>\n",
       "    <tr>\n",
       "      <th>4</th>\n",
       "      <td>5</td>\n",
       "      <td>2022-07-13</td>\n",
       "      <td>Standard Class</td>\n",
       "      <td>Consumer</td>\n",
       "      <td>United States</td>\n",
       "      <td>Fort Lauderdale</td>\n",
       "      <td>Florida</td>\n",
       "      <td>33311</td>\n",
       "      <td>South</td>\n",
       "      <td>Office Supplies</td>\n",
       "      <td>Storage</td>\n",
       "      <td>OFF-ST-10000760</td>\n",
       "      <td>20</td>\n",
       "      <td>20</td>\n",
       "      <td>2</td>\n",
       "      <td>5</td>\n",
       "    </tr>\n",
       "  </tbody>\n",
       "</table>\n",
       "</div>"
      ],
      "text/plain": [
       "   order_id  order_date       ship_mode    segment        country  \\\n",
       "0         1  2023-03-01    Second Class   Consumer  United States   \n",
       "1         2  2023-08-15    Second Class   Consumer  United States   \n",
       "2         3  2023-01-10    Second Class  Corporate  United States   \n",
       "3         4  2022-06-18  Standard Class   Consumer  United States   \n",
       "4         5  2022-07-13  Standard Class   Consumer  United States   \n",
       "\n",
       "              city       state  postal_code region         category  \\\n",
       "0        Henderson    Kentucky        42420  South        Furniture   \n",
       "1        Henderson    Kentucky        42420  South        Furniture   \n",
       "2      Los Angeles  California        90036   West  Office Supplies   \n",
       "3  Fort Lauderdale     Florida        33311  South        Furniture   \n",
       "4  Fort Lauderdale     Florida        33311  South  Office Supplies   \n",
       "\n",
       "  sub_category       product_id  cost_price  list_price  quantity  \\\n",
       "0    Bookcases  FUR-BO-10001798         240         260         2   \n",
       "1       Chairs  FUR-CH-10000454         600         730         3   \n",
       "2       Labels  OFF-LA-10000240          10          10         2   \n",
       "3       Tables  FUR-TA-10000577         780         960         5   \n",
       "4      Storage  OFF-ST-10000760          20          20         2   \n",
       "\n",
       "   discount_percent  \n",
       "0                 2  \n",
       "1                 3  \n",
       "2                 5  \n",
       "3                 2  \n",
       "4                 5  "
      ]
     },
     "execution_count": 18,
     "metadata": {},
     "output_type": "execute_result"
    }
   ],
   "source": [
    "order.head()"
   ]
  },
  {
   "cell_type": "markdown",
   "id": "2e73b053-031a-474e-a061-fe63474dd68d",
   "metadata": {},
   "source": [
    "#### count of discount, sale price and profit"
   ]
  },
  {
   "cell_type": "code",
   "execution_count": 20,
   "id": "79a81f04-1839-4dae-8620-7bb5ecf4e1c8",
   "metadata": {},
   "outputs": [],
   "source": [
    "order['discount'] = order['list_price']*order['discount_percent']*0.01"
   ]
  },
  {
   "cell_type": "code",
   "execution_count": 21,
   "id": "76d31ea5-18b7-4ff8-80b5-bab000c0eb1f",
   "metadata": {},
   "outputs": [
    {
     "data": {
      "text/html": [
       "<div>\n",
       "<style scoped>\n",
       "    .dataframe tbody tr th:only-of-type {\n",
       "        vertical-align: middle;\n",
       "    }\n",
       "\n",
       "    .dataframe tbody tr th {\n",
       "        vertical-align: top;\n",
       "    }\n",
       "\n",
       "    .dataframe thead th {\n",
       "        text-align: right;\n",
       "    }\n",
       "</style>\n",
       "<table border=\"1\" class=\"dataframe\">\n",
       "  <thead>\n",
       "    <tr style=\"text-align: right;\">\n",
       "      <th></th>\n",
       "      <th>order_id</th>\n",
       "      <th>order_date</th>\n",
       "      <th>ship_mode</th>\n",
       "      <th>segment</th>\n",
       "      <th>country</th>\n",
       "      <th>city</th>\n",
       "      <th>state</th>\n",
       "      <th>postal_code</th>\n",
       "      <th>region</th>\n",
       "      <th>category</th>\n",
       "      <th>sub_category</th>\n",
       "      <th>product_id</th>\n",
       "      <th>cost_price</th>\n",
       "      <th>list_price</th>\n",
       "      <th>quantity</th>\n",
       "      <th>discount_percent</th>\n",
       "      <th>discount</th>\n",
       "    </tr>\n",
       "  </thead>\n",
       "  <tbody>\n",
       "    <tr>\n",
       "      <th>0</th>\n",
       "      <td>1</td>\n",
       "      <td>2023-03-01</td>\n",
       "      <td>Second Class</td>\n",
       "      <td>Consumer</td>\n",
       "      <td>United States</td>\n",
       "      <td>Henderson</td>\n",
       "      <td>Kentucky</td>\n",
       "      <td>42420</td>\n",
       "      <td>South</td>\n",
       "      <td>Furniture</td>\n",
       "      <td>Bookcases</td>\n",
       "      <td>FUR-BO-10001798</td>\n",
       "      <td>240</td>\n",
       "      <td>260</td>\n",
       "      <td>2</td>\n",
       "      <td>2</td>\n",
       "      <td>5.2</td>\n",
       "    </tr>\n",
       "    <tr>\n",
       "      <th>1</th>\n",
       "      <td>2</td>\n",
       "      <td>2023-08-15</td>\n",
       "      <td>Second Class</td>\n",
       "      <td>Consumer</td>\n",
       "      <td>United States</td>\n",
       "      <td>Henderson</td>\n",
       "      <td>Kentucky</td>\n",
       "      <td>42420</td>\n",
       "      <td>South</td>\n",
       "      <td>Furniture</td>\n",
       "      <td>Chairs</td>\n",
       "      <td>FUR-CH-10000454</td>\n",
       "      <td>600</td>\n",
       "      <td>730</td>\n",
       "      <td>3</td>\n",
       "      <td>3</td>\n",
       "      <td>21.9</td>\n",
       "    </tr>\n",
       "    <tr>\n",
       "      <th>2</th>\n",
       "      <td>3</td>\n",
       "      <td>2023-01-10</td>\n",
       "      <td>Second Class</td>\n",
       "      <td>Corporate</td>\n",
       "      <td>United States</td>\n",
       "      <td>Los Angeles</td>\n",
       "      <td>California</td>\n",
       "      <td>90036</td>\n",
       "      <td>West</td>\n",
       "      <td>Office Supplies</td>\n",
       "      <td>Labels</td>\n",
       "      <td>OFF-LA-10000240</td>\n",
       "      <td>10</td>\n",
       "      <td>10</td>\n",
       "      <td>2</td>\n",
       "      <td>5</td>\n",
       "      <td>0.5</td>\n",
       "    </tr>\n",
       "    <tr>\n",
       "      <th>3</th>\n",
       "      <td>4</td>\n",
       "      <td>2022-06-18</td>\n",
       "      <td>Standard Class</td>\n",
       "      <td>Consumer</td>\n",
       "      <td>United States</td>\n",
       "      <td>Fort Lauderdale</td>\n",
       "      <td>Florida</td>\n",
       "      <td>33311</td>\n",
       "      <td>South</td>\n",
       "      <td>Furniture</td>\n",
       "      <td>Tables</td>\n",
       "      <td>FUR-TA-10000577</td>\n",
       "      <td>780</td>\n",
       "      <td>960</td>\n",
       "      <td>5</td>\n",
       "      <td>2</td>\n",
       "      <td>19.2</td>\n",
       "    </tr>\n",
       "    <tr>\n",
       "      <th>4</th>\n",
       "      <td>5</td>\n",
       "      <td>2022-07-13</td>\n",
       "      <td>Standard Class</td>\n",
       "      <td>Consumer</td>\n",
       "      <td>United States</td>\n",
       "      <td>Fort Lauderdale</td>\n",
       "      <td>Florida</td>\n",
       "      <td>33311</td>\n",
       "      <td>South</td>\n",
       "      <td>Office Supplies</td>\n",
       "      <td>Storage</td>\n",
       "      <td>OFF-ST-10000760</td>\n",
       "      <td>20</td>\n",
       "      <td>20</td>\n",
       "      <td>2</td>\n",
       "      <td>5</td>\n",
       "      <td>1.0</td>\n",
       "    </tr>\n",
       "  </tbody>\n",
       "</table>\n",
       "</div>"
      ],
      "text/plain": [
       "   order_id  order_date       ship_mode    segment        country  \\\n",
       "0         1  2023-03-01    Second Class   Consumer  United States   \n",
       "1         2  2023-08-15    Second Class   Consumer  United States   \n",
       "2         3  2023-01-10    Second Class  Corporate  United States   \n",
       "3         4  2022-06-18  Standard Class   Consumer  United States   \n",
       "4         5  2022-07-13  Standard Class   Consumer  United States   \n",
       "\n",
       "              city       state  postal_code region         category  \\\n",
       "0        Henderson    Kentucky        42420  South        Furniture   \n",
       "1        Henderson    Kentucky        42420  South        Furniture   \n",
       "2      Los Angeles  California        90036   West  Office Supplies   \n",
       "3  Fort Lauderdale     Florida        33311  South        Furniture   \n",
       "4  Fort Lauderdale     Florida        33311  South  Office Supplies   \n",
       "\n",
       "  sub_category       product_id  cost_price  list_price  quantity  \\\n",
       "0    Bookcases  FUR-BO-10001798         240         260         2   \n",
       "1       Chairs  FUR-CH-10000454         600         730         3   \n",
       "2       Labels  OFF-LA-10000240          10          10         2   \n",
       "3       Tables  FUR-TA-10000577         780         960         5   \n",
       "4      Storage  OFF-ST-10000760          20          20         2   \n",
       "\n",
       "   discount_percent  discount  \n",
       "0                 2       5.2  \n",
       "1                 3      21.9  \n",
       "2                 5       0.5  \n",
       "3                 2      19.2  \n",
       "4                 5       1.0  "
      ]
     },
     "execution_count": 21,
     "metadata": {},
     "output_type": "execute_result"
    }
   ],
   "source": [
    "order.head()"
   ]
  },
  {
   "cell_type": "code",
   "execution_count": 22,
   "id": "ade16ef0-0de6-42b0-9962-898738def214",
   "metadata": {},
   "outputs": [],
   "source": [
    "order['sale_price'] = order['list_price'] - order['discount']"
   ]
  },
  {
   "cell_type": "code",
   "execution_count": 23,
   "id": "a63c1bd7-1f90-4213-a8b2-16a3b77c0494",
   "metadata": {},
   "outputs": [
    {
     "data": {
      "text/html": [
       "<div>\n",
       "<style scoped>\n",
       "    .dataframe tbody tr th:only-of-type {\n",
       "        vertical-align: middle;\n",
       "    }\n",
       "\n",
       "    .dataframe tbody tr th {\n",
       "        vertical-align: top;\n",
       "    }\n",
       "\n",
       "    .dataframe thead th {\n",
       "        text-align: right;\n",
       "    }\n",
       "</style>\n",
       "<table border=\"1\" class=\"dataframe\">\n",
       "  <thead>\n",
       "    <tr style=\"text-align: right;\">\n",
       "      <th></th>\n",
       "      <th>order_id</th>\n",
       "      <th>order_date</th>\n",
       "      <th>ship_mode</th>\n",
       "      <th>segment</th>\n",
       "      <th>country</th>\n",
       "      <th>city</th>\n",
       "      <th>state</th>\n",
       "      <th>postal_code</th>\n",
       "      <th>region</th>\n",
       "      <th>category</th>\n",
       "      <th>sub_category</th>\n",
       "      <th>product_id</th>\n",
       "      <th>cost_price</th>\n",
       "      <th>list_price</th>\n",
       "      <th>quantity</th>\n",
       "      <th>discount_percent</th>\n",
       "      <th>discount</th>\n",
       "      <th>sale_price</th>\n",
       "    </tr>\n",
       "  </thead>\n",
       "  <tbody>\n",
       "    <tr>\n",
       "      <th>0</th>\n",
       "      <td>1</td>\n",
       "      <td>2023-03-01</td>\n",
       "      <td>Second Class</td>\n",
       "      <td>Consumer</td>\n",
       "      <td>United States</td>\n",
       "      <td>Henderson</td>\n",
       "      <td>Kentucky</td>\n",
       "      <td>42420</td>\n",
       "      <td>South</td>\n",
       "      <td>Furniture</td>\n",
       "      <td>Bookcases</td>\n",
       "      <td>FUR-BO-10001798</td>\n",
       "      <td>240</td>\n",
       "      <td>260</td>\n",
       "      <td>2</td>\n",
       "      <td>2</td>\n",
       "      <td>5.2</td>\n",
       "      <td>254.8</td>\n",
       "    </tr>\n",
       "    <tr>\n",
       "      <th>1</th>\n",
       "      <td>2</td>\n",
       "      <td>2023-08-15</td>\n",
       "      <td>Second Class</td>\n",
       "      <td>Consumer</td>\n",
       "      <td>United States</td>\n",
       "      <td>Henderson</td>\n",
       "      <td>Kentucky</td>\n",
       "      <td>42420</td>\n",
       "      <td>South</td>\n",
       "      <td>Furniture</td>\n",
       "      <td>Chairs</td>\n",
       "      <td>FUR-CH-10000454</td>\n",
       "      <td>600</td>\n",
       "      <td>730</td>\n",
       "      <td>3</td>\n",
       "      <td>3</td>\n",
       "      <td>21.9</td>\n",
       "      <td>708.1</td>\n",
       "    </tr>\n",
       "    <tr>\n",
       "      <th>2</th>\n",
       "      <td>3</td>\n",
       "      <td>2023-01-10</td>\n",
       "      <td>Second Class</td>\n",
       "      <td>Corporate</td>\n",
       "      <td>United States</td>\n",
       "      <td>Los Angeles</td>\n",
       "      <td>California</td>\n",
       "      <td>90036</td>\n",
       "      <td>West</td>\n",
       "      <td>Office Supplies</td>\n",
       "      <td>Labels</td>\n",
       "      <td>OFF-LA-10000240</td>\n",
       "      <td>10</td>\n",
       "      <td>10</td>\n",
       "      <td>2</td>\n",
       "      <td>5</td>\n",
       "      <td>0.5</td>\n",
       "      <td>9.5</td>\n",
       "    </tr>\n",
       "    <tr>\n",
       "      <th>3</th>\n",
       "      <td>4</td>\n",
       "      <td>2022-06-18</td>\n",
       "      <td>Standard Class</td>\n",
       "      <td>Consumer</td>\n",
       "      <td>United States</td>\n",
       "      <td>Fort Lauderdale</td>\n",
       "      <td>Florida</td>\n",
       "      <td>33311</td>\n",
       "      <td>South</td>\n",
       "      <td>Furniture</td>\n",
       "      <td>Tables</td>\n",
       "      <td>FUR-TA-10000577</td>\n",
       "      <td>780</td>\n",
       "      <td>960</td>\n",
       "      <td>5</td>\n",
       "      <td>2</td>\n",
       "      <td>19.2</td>\n",
       "      <td>940.8</td>\n",
       "    </tr>\n",
       "    <tr>\n",
       "      <th>4</th>\n",
       "      <td>5</td>\n",
       "      <td>2022-07-13</td>\n",
       "      <td>Standard Class</td>\n",
       "      <td>Consumer</td>\n",
       "      <td>United States</td>\n",
       "      <td>Fort Lauderdale</td>\n",
       "      <td>Florida</td>\n",
       "      <td>33311</td>\n",
       "      <td>South</td>\n",
       "      <td>Office Supplies</td>\n",
       "      <td>Storage</td>\n",
       "      <td>OFF-ST-10000760</td>\n",
       "      <td>20</td>\n",
       "      <td>20</td>\n",
       "      <td>2</td>\n",
       "      <td>5</td>\n",
       "      <td>1.0</td>\n",
       "      <td>19.0</td>\n",
       "    </tr>\n",
       "  </tbody>\n",
       "</table>\n",
       "</div>"
      ],
      "text/plain": [
       "   order_id  order_date       ship_mode    segment        country  \\\n",
       "0         1  2023-03-01    Second Class   Consumer  United States   \n",
       "1         2  2023-08-15    Second Class   Consumer  United States   \n",
       "2         3  2023-01-10    Second Class  Corporate  United States   \n",
       "3         4  2022-06-18  Standard Class   Consumer  United States   \n",
       "4         5  2022-07-13  Standard Class   Consumer  United States   \n",
       "\n",
       "              city       state  postal_code region         category  \\\n",
       "0        Henderson    Kentucky        42420  South        Furniture   \n",
       "1        Henderson    Kentucky        42420  South        Furniture   \n",
       "2      Los Angeles  California        90036   West  Office Supplies   \n",
       "3  Fort Lauderdale     Florida        33311  South        Furniture   \n",
       "4  Fort Lauderdale     Florida        33311  South  Office Supplies   \n",
       "\n",
       "  sub_category       product_id  cost_price  list_price  quantity  \\\n",
       "0    Bookcases  FUR-BO-10001798         240         260         2   \n",
       "1       Chairs  FUR-CH-10000454         600         730         3   \n",
       "2       Labels  OFF-LA-10000240          10          10         2   \n",
       "3       Tables  FUR-TA-10000577         780         960         5   \n",
       "4      Storage  OFF-ST-10000760          20          20         2   \n",
       "\n",
       "   discount_percent  discount  sale_price  \n",
       "0                 2       5.2       254.8  \n",
       "1                 3      21.9       708.1  \n",
       "2                 5       0.5         9.5  \n",
       "3                 2      19.2       940.8  \n",
       "4                 5       1.0        19.0  "
      ]
     },
     "execution_count": 23,
     "metadata": {},
     "output_type": "execute_result"
    }
   ],
   "source": [
    "order.head()"
   ]
  },
  {
   "cell_type": "code",
   "execution_count": 24,
   "id": "7ca9ff0f-4223-4122-8e74-cb6cd0e58cb3",
   "metadata": {},
   "outputs": [],
   "source": [
    "order['profit'] = order['sale_price'] - order['cost_price']"
   ]
  },
  {
   "cell_type": "code",
   "execution_count": 25,
   "id": "69a6225a-a775-4d18-bd5a-56e8078cad1d",
   "metadata": {},
   "outputs": [
    {
     "data": {
      "text/html": [
       "<div>\n",
       "<style scoped>\n",
       "    .dataframe tbody tr th:only-of-type {\n",
       "        vertical-align: middle;\n",
       "    }\n",
       "\n",
       "    .dataframe tbody tr th {\n",
       "        vertical-align: top;\n",
       "    }\n",
       "\n",
       "    .dataframe thead th {\n",
       "        text-align: right;\n",
       "    }\n",
       "</style>\n",
       "<table border=\"1\" class=\"dataframe\">\n",
       "  <thead>\n",
       "    <tr style=\"text-align: right;\">\n",
       "      <th></th>\n",
       "      <th>order_id</th>\n",
       "      <th>order_date</th>\n",
       "      <th>ship_mode</th>\n",
       "      <th>segment</th>\n",
       "      <th>country</th>\n",
       "      <th>city</th>\n",
       "      <th>state</th>\n",
       "      <th>postal_code</th>\n",
       "      <th>region</th>\n",
       "      <th>category</th>\n",
       "      <th>sub_category</th>\n",
       "      <th>product_id</th>\n",
       "      <th>cost_price</th>\n",
       "      <th>list_price</th>\n",
       "      <th>quantity</th>\n",
       "      <th>discount_percent</th>\n",
       "      <th>discount</th>\n",
       "      <th>sale_price</th>\n",
       "      <th>profit</th>\n",
       "    </tr>\n",
       "  </thead>\n",
       "  <tbody>\n",
       "    <tr>\n",
       "      <th>0</th>\n",
       "      <td>1</td>\n",
       "      <td>2023-03-01</td>\n",
       "      <td>Second Class</td>\n",
       "      <td>Consumer</td>\n",
       "      <td>United States</td>\n",
       "      <td>Henderson</td>\n",
       "      <td>Kentucky</td>\n",
       "      <td>42420</td>\n",
       "      <td>South</td>\n",
       "      <td>Furniture</td>\n",
       "      <td>Bookcases</td>\n",
       "      <td>FUR-BO-10001798</td>\n",
       "      <td>240</td>\n",
       "      <td>260</td>\n",
       "      <td>2</td>\n",
       "      <td>2</td>\n",
       "      <td>5.2</td>\n",
       "      <td>254.8</td>\n",
       "      <td>14.8</td>\n",
       "    </tr>\n",
       "    <tr>\n",
       "      <th>1</th>\n",
       "      <td>2</td>\n",
       "      <td>2023-08-15</td>\n",
       "      <td>Second Class</td>\n",
       "      <td>Consumer</td>\n",
       "      <td>United States</td>\n",
       "      <td>Henderson</td>\n",
       "      <td>Kentucky</td>\n",
       "      <td>42420</td>\n",
       "      <td>South</td>\n",
       "      <td>Furniture</td>\n",
       "      <td>Chairs</td>\n",
       "      <td>FUR-CH-10000454</td>\n",
       "      <td>600</td>\n",
       "      <td>730</td>\n",
       "      <td>3</td>\n",
       "      <td>3</td>\n",
       "      <td>21.9</td>\n",
       "      <td>708.1</td>\n",
       "      <td>108.1</td>\n",
       "    </tr>\n",
       "    <tr>\n",
       "      <th>2</th>\n",
       "      <td>3</td>\n",
       "      <td>2023-01-10</td>\n",
       "      <td>Second Class</td>\n",
       "      <td>Corporate</td>\n",
       "      <td>United States</td>\n",
       "      <td>Los Angeles</td>\n",
       "      <td>California</td>\n",
       "      <td>90036</td>\n",
       "      <td>West</td>\n",
       "      <td>Office Supplies</td>\n",
       "      <td>Labels</td>\n",
       "      <td>OFF-LA-10000240</td>\n",
       "      <td>10</td>\n",
       "      <td>10</td>\n",
       "      <td>2</td>\n",
       "      <td>5</td>\n",
       "      <td>0.5</td>\n",
       "      <td>9.5</td>\n",
       "      <td>-0.5</td>\n",
       "    </tr>\n",
       "    <tr>\n",
       "      <th>3</th>\n",
       "      <td>4</td>\n",
       "      <td>2022-06-18</td>\n",
       "      <td>Standard Class</td>\n",
       "      <td>Consumer</td>\n",
       "      <td>United States</td>\n",
       "      <td>Fort Lauderdale</td>\n",
       "      <td>Florida</td>\n",
       "      <td>33311</td>\n",
       "      <td>South</td>\n",
       "      <td>Furniture</td>\n",
       "      <td>Tables</td>\n",
       "      <td>FUR-TA-10000577</td>\n",
       "      <td>780</td>\n",
       "      <td>960</td>\n",
       "      <td>5</td>\n",
       "      <td>2</td>\n",
       "      <td>19.2</td>\n",
       "      <td>940.8</td>\n",
       "      <td>160.8</td>\n",
       "    </tr>\n",
       "    <tr>\n",
       "      <th>4</th>\n",
       "      <td>5</td>\n",
       "      <td>2022-07-13</td>\n",
       "      <td>Standard Class</td>\n",
       "      <td>Consumer</td>\n",
       "      <td>United States</td>\n",
       "      <td>Fort Lauderdale</td>\n",
       "      <td>Florida</td>\n",
       "      <td>33311</td>\n",
       "      <td>South</td>\n",
       "      <td>Office Supplies</td>\n",
       "      <td>Storage</td>\n",
       "      <td>OFF-ST-10000760</td>\n",
       "      <td>20</td>\n",
       "      <td>20</td>\n",
       "      <td>2</td>\n",
       "      <td>5</td>\n",
       "      <td>1.0</td>\n",
       "      <td>19.0</td>\n",
       "      <td>-1.0</td>\n",
       "    </tr>\n",
       "  </tbody>\n",
       "</table>\n",
       "</div>"
      ],
      "text/plain": [
       "   order_id  order_date       ship_mode    segment        country  \\\n",
       "0         1  2023-03-01    Second Class   Consumer  United States   \n",
       "1         2  2023-08-15    Second Class   Consumer  United States   \n",
       "2         3  2023-01-10    Second Class  Corporate  United States   \n",
       "3         4  2022-06-18  Standard Class   Consumer  United States   \n",
       "4         5  2022-07-13  Standard Class   Consumer  United States   \n",
       "\n",
       "              city       state  postal_code region         category  \\\n",
       "0        Henderson    Kentucky        42420  South        Furniture   \n",
       "1        Henderson    Kentucky        42420  South        Furniture   \n",
       "2      Los Angeles  California        90036   West  Office Supplies   \n",
       "3  Fort Lauderdale     Florida        33311  South        Furniture   \n",
       "4  Fort Lauderdale     Florida        33311  South  Office Supplies   \n",
       "\n",
       "  sub_category       product_id  cost_price  list_price  quantity  \\\n",
       "0    Bookcases  FUR-BO-10001798         240         260         2   \n",
       "1       Chairs  FUR-CH-10000454         600         730         3   \n",
       "2       Labels  OFF-LA-10000240          10          10         2   \n",
       "3       Tables  FUR-TA-10000577         780         960         5   \n",
       "4      Storage  OFF-ST-10000760          20          20         2   \n",
       "\n",
       "   discount_percent  discount  sale_price  profit  \n",
       "0                 2       5.2       254.8    14.8  \n",
       "1                 3      21.9       708.1   108.1  \n",
       "2                 5       0.5         9.5    -0.5  \n",
       "3                 2      19.2       940.8   160.8  \n",
       "4                 5       1.0        19.0    -1.0  "
      ]
     },
     "execution_count": 25,
     "metadata": {},
     "output_type": "execute_result"
    }
   ],
   "source": [
    "order.head()"
   ]
  },
  {
   "cell_type": "code",
   "execution_count": 26,
   "id": "e02a4753-9e77-46bb-8143-ede8fd2e6c48",
   "metadata": {},
   "outputs": [
    {
     "name": "stdout",
     "output_type": "stream",
     "text": [
      "<class 'pandas.core.frame.DataFrame'>\n",
      "RangeIndex: 9994 entries, 0 to 9993\n",
      "Data columns (total 19 columns):\n",
      " #   Column            Non-Null Count  Dtype  \n",
      "---  ------            --------------  -----  \n",
      " 0   order_id          9994 non-null   int64  \n",
      " 1   order_date        9994 non-null   object \n",
      " 2   ship_mode         9988 non-null   object \n",
      " 3   segment           9994 non-null   object \n",
      " 4   country           9994 non-null   object \n",
      " 5   city              9994 non-null   object \n",
      " 6   state             9994 non-null   object \n",
      " 7   postal_code       9994 non-null   int64  \n",
      " 8   region            9994 non-null   object \n",
      " 9   category          9994 non-null   object \n",
      " 10  sub_category      9994 non-null   object \n",
      " 11  product_id        9994 non-null   object \n",
      " 12  cost_price        9994 non-null   int64  \n",
      " 13  list_price        9994 non-null   int64  \n",
      " 14  quantity          9994 non-null   int64  \n",
      " 15  discount_percent  9994 non-null   int64  \n",
      " 16  discount          9994 non-null   float64\n",
      " 17  sale_price        9994 non-null   float64\n",
      " 18  profit            9994 non-null   float64\n",
      "dtypes: float64(3), int64(6), object(10)\n",
      "memory usage: 1.4+ MB\n"
     ]
    }
   ],
   "source": [
    "order.info()"
   ]
  },
  {
   "cell_type": "code",
   "execution_count": 27,
   "id": "8460e434-c707-4062-b306-72fe2602f538",
   "metadata": {},
   "outputs": [],
   "source": [
    "#convert order_date to datetime"
   ]
  },
  {
   "cell_type": "code",
   "execution_count": 28,
   "id": "ca08947e-8221-48b6-b1c7-8b3fb839369a",
   "metadata": {},
   "outputs": [],
   "source": [
    "order['order_date'] = pd.to_datetime(order['order_date'],format='%Y-%m-%d')"
   ]
  },
  {
   "cell_type": "code",
   "execution_count": 29,
   "id": "fe9bab76-50f9-4910-9227-6206ca2af75c",
   "metadata": {},
   "outputs": [
    {
     "name": "stdout",
     "output_type": "stream",
     "text": [
      "<class 'pandas.core.frame.DataFrame'>\n",
      "RangeIndex: 9994 entries, 0 to 9993\n",
      "Data columns (total 19 columns):\n",
      " #   Column            Non-Null Count  Dtype         \n",
      "---  ------            --------------  -----         \n",
      " 0   order_id          9994 non-null   int64         \n",
      " 1   order_date        9994 non-null   datetime64[ns]\n",
      " 2   ship_mode         9988 non-null   object        \n",
      " 3   segment           9994 non-null   object        \n",
      " 4   country           9994 non-null   object        \n",
      " 5   city              9994 non-null   object        \n",
      " 6   state             9994 non-null   object        \n",
      " 7   postal_code       9994 non-null   int64         \n",
      " 8   region            9994 non-null   object        \n",
      " 9   category          9994 non-null   object        \n",
      " 10  sub_category      9994 non-null   object        \n",
      " 11  product_id        9994 non-null   object        \n",
      " 12  cost_price        9994 non-null   int64         \n",
      " 13  list_price        9994 non-null   int64         \n",
      " 14  quantity          9994 non-null   int64         \n",
      " 15  discount_percent  9994 non-null   int64         \n",
      " 16  discount          9994 non-null   float64       \n",
      " 17  sale_price        9994 non-null   float64       \n",
      " 18  profit            9994 non-null   float64       \n",
      "dtypes: datetime64[ns](1), float64(3), int64(6), object(9)\n",
      "memory usage: 1.4+ MB\n"
     ]
    }
   ],
   "source": [
    "order.info()"
   ]
  },
  {
   "cell_type": "code",
   "execution_count": 30,
   "id": "ff74c583-af95-4dcf-a118-a3b6ef21b989",
   "metadata": {},
   "outputs": [],
   "source": [
    "order.drop(columns=['discount_percent','list_price','cost_price'],inplace=True)"
   ]
  },
  {
   "cell_type": "code",
   "execution_count": 31,
   "id": "c866ab93-a44c-474e-b36b-b3fb68c0b397",
   "metadata": {},
   "outputs": [
    {
     "data": {
      "text/html": [
       "<div>\n",
       "<style scoped>\n",
       "    .dataframe tbody tr th:only-of-type {\n",
       "        vertical-align: middle;\n",
       "    }\n",
       "\n",
       "    .dataframe tbody tr th {\n",
       "        vertical-align: top;\n",
       "    }\n",
       "\n",
       "    .dataframe thead th {\n",
       "        text-align: right;\n",
       "    }\n",
       "</style>\n",
       "<table border=\"1\" class=\"dataframe\">\n",
       "  <thead>\n",
       "    <tr style=\"text-align: right;\">\n",
       "      <th></th>\n",
       "      <th>order_id</th>\n",
       "      <th>order_date</th>\n",
       "      <th>ship_mode</th>\n",
       "      <th>segment</th>\n",
       "      <th>country</th>\n",
       "      <th>city</th>\n",
       "      <th>state</th>\n",
       "      <th>postal_code</th>\n",
       "      <th>region</th>\n",
       "      <th>category</th>\n",
       "      <th>sub_category</th>\n",
       "      <th>product_id</th>\n",
       "      <th>quantity</th>\n",
       "      <th>discount</th>\n",
       "      <th>sale_price</th>\n",
       "      <th>profit</th>\n",
       "    </tr>\n",
       "  </thead>\n",
       "  <tbody>\n",
       "    <tr>\n",
       "      <th>0</th>\n",
       "      <td>1</td>\n",
       "      <td>2023-03-01</td>\n",
       "      <td>Second Class</td>\n",
       "      <td>Consumer</td>\n",
       "      <td>United States</td>\n",
       "      <td>Henderson</td>\n",
       "      <td>Kentucky</td>\n",
       "      <td>42420</td>\n",
       "      <td>South</td>\n",
       "      <td>Furniture</td>\n",
       "      <td>Bookcases</td>\n",
       "      <td>FUR-BO-10001798</td>\n",
       "      <td>2</td>\n",
       "      <td>5.2</td>\n",
       "      <td>254.8</td>\n",
       "      <td>14.8</td>\n",
       "    </tr>\n",
       "    <tr>\n",
       "      <th>1</th>\n",
       "      <td>2</td>\n",
       "      <td>2023-08-15</td>\n",
       "      <td>Second Class</td>\n",
       "      <td>Consumer</td>\n",
       "      <td>United States</td>\n",
       "      <td>Henderson</td>\n",
       "      <td>Kentucky</td>\n",
       "      <td>42420</td>\n",
       "      <td>South</td>\n",
       "      <td>Furniture</td>\n",
       "      <td>Chairs</td>\n",
       "      <td>FUR-CH-10000454</td>\n",
       "      <td>3</td>\n",
       "      <td>21.9</td>\n",
       "      <td>708.1</td>\n",
       "      <td>108.1</td>\n",
       "    </tr>\n",
       "    <tr>\n",
       "      <th>2</th>\n",
       "      <td>3</td>\n",
       "      <td>2023-01-10</td>\n",
       "      <td>Second Class</td>\n",
       "      <td>Corporate</td>\n",
       "      <td>United States</td>\n",
       "      <td>Los Angeles</td>\n",
       "      <td>California</td>\n",
       "      <td>90036</td>\n",
       "      <td>West</td>\n",
       "      <td>Office Supplies</td>\n",
       "      <td>Labels</td>\n",
       "      <td>OFF-LA-10000240</td>\n",
       "      <td>2</td>\n",
       "      <td>0.5</td>\n",
       "      <td>9.5</td>\n",
       "      <td>-0.5</td>\n",
       "    </tr>\n",
       "    <tr>\n",
       "      <th>3</th>\n",
       "      <td>4</td>\n",
       "      <td>2022-06-18</td>\n",
       "      <td>Standard Class</td>\n",
       "      <td>Consumer</td>\n",
       "      <td>United States</td>\n",
       "      <td>Fort Lauderdale</td>\n",
       "      <td>Florida</td>\n",
       "      <td>33311</td>\n",
       "      <td>South</td>\n",
       "      <td>Furniture</td>\n",
       "      <td>Tables</td>\n",
       "      <td>FUR-TA-10000577</td>\n",
       "      <td>5</td>\n",
       "      <td>19.2</td>\n",
       "      <td>940.8</td>\n",
       "      <td>160.8</td>\n",
       "    </tr>\n",
       "    <tr>\n",
       "      <th>4</th>\n",
       "      <td>5</td>\n",
       "      <td>2022-07-13</td>\n",
       "      <td>Standard Class</td>\n",
       "      <td>Consumer</td>\n",
       "      <td>United States</td>\n",
       "      <td>Fort Lauderdale</td>\n",
       "      <td>Florida</td>\n",
       "      <td>33311</td>\n",
       "      <td>South</td>\n",
       "      <td>Office Supplies</td>\n",
       "      <td>Storage</td>\n",
       "      <td>OFF-ST-10000760</td>\n",
       "      <td>2</td>\n",
       "      <td>1.0</td>\n",
       "      <td>19.0</td>\n",
       "      <td>-1.0</td>\n",
       "    </tr>\n",
       "  </tbody>\n",
       "</table>\n",
       "</div>"
      ],
      "text/plain": [
       "   order_id order_date       ship_mode    segment        country  \\\n",
       "0         1 2023-03-01    Second Class   Consumer  United States   \n",
       "1         2 2023-08-15    Second Class   Consumer  United States   \n",
       "2         3 2023-01-10    Second Class  Corporate  United States   \n",
       "3         4 2022-06-18  Standard Class   Consumer  United States   \n",
       "4         5 2022-07-13  Standard Class   Consumer  United States   \n",
       "\n",
       "              city       state  postal_code region         category  \\\n",
       "0        Henderson    Kentucky        42420  South        Furniture   \n",
       "1        Henderson    Kentucky        42420  South        Furniture   \n",
       "2      Los Angeles  California        90036   West  Office Supplies   \n",
       "3  Fort Lauderdale     Florida        33311  South        Furniture   \n",
       "4  Fort Lauderdale     Florida        33311  South  Office Supplies   \n",
       "\n",
       "  sub_category       product_id  quantity  discount  sale_price  profit  \n",
       "0    Bookcases  FUR-BO-10001798         2       5.2       254.8    14.8  \n",
       "1       Chairs  FUR-CH-10000454         3      21.9       708.1   108.1  \n",
       "2       Labels  OFF-LA-10000240         2       0.5         9.5    -0.5  \n",
       "3       Tables  FUR-TA-10000577         5      19.2       940.8   160.8  \n",
       "4      Storage  OFF-ST-10000760         2       1.0        19.0    -1.0  "
      ]
     },
     "execution_count": 31,
     "metadata": {},
     "output_type": "execute_result"
    }
   ],
   "source": [
    "order.head()"
   ]
  },
  {
   "cell_type": "code",
   "execution_count": 32,
   "id": "8e4b0fe3-845e-4d7a-9df0-0e9f6b4744e9",
   "metadata": {},
   "outputs": [],
   "source": [
    "order['year'] = order['order_date'].dt.year"
   ]
  },
  {
   "cell_type": "code",
   "execution_count": 33,
   "id": "c74983eb-dd32-4941-8c6e-e57284050063",
   "metadata": {},
   "outputs": [
    {
     "data": {
      "text/html": [
       "<div>\n",
       "<style scoped>\n",
       "    .dataframe tbody tr th:only-of-type {\n",
       "        vertical-align: middle;\n",
       "    }\n",
       "\n",
       "    .dataframe tbody tr th {\n",
       "        vertical-align: top;\n",
       "    }\n",
       "\n",
       "    .dataframe thead th {\n",
       "        text-align: right;\n",
       "    }\n",
       "</style>\n",
       "<table border=\"1\" class=\"dataframe\">\n",
       "  <thead>\n",
       "    <tr style=\"text-align: right;\">\n",
       "      <th></th>\n",
       "      <th>order_id</th>\n",
       "      <th>order_date</th>\n",
       "      <th>ship_mode</th>\n",
       "      <th>segment</th>\n",
       "      <th>country</th>\n",
       "      <th>city</th>\n",
       "      <th>state</th>\n",
       "      <th>postal_code</th>\n",
       "      <th>region</th>\n",
       "      <th>category</th>\n",
       "      <th>sub_category</th>\n",
       "      <th>product_id</th>\n",
       "      <th>quantity</th>\n",
       "      <th>discount</th>\n",
       "      <th>sale_price</th>\n",
       "      <th>profit</th>\n",
       "      <th>year</th>\n",
       "    </tr>\n",
       "  </thead>\n",
       "  <tbody>\n",
       "    <tr>\n",
       "      <th>0</th>\n",
       "      <td>1</td>\n",
       "      <td>2023-03-01</td>\n",
       "      <td>Second Class</td>\n",
       "      <td>Consumer</td>\n",
       "      <td>United States</td>\n",
       "      <td>Henderson</td>\n",
       "      <td>Kentucky</td>\n",
       "      <td>42420</td>\n",
       "      <td>South</td>\n",
       "      <td>Furniture</td>\n",
       "      <td>Bookcases</td>\n",
       "      <td>FUR-BO-10001798</td>\n",
       "      <td>2</td>\n",
       "      <td>5.2</td>\n",
       "      <td>254.8</td>\n",
       "      <td>14.8</td>\n",
       "      <td>2023</td>\n",
       "    </tr>\n",
       "    <tr>\n",
       "      <th>1</th>\n",
       "      <td>2</td>\n",
       "      <td>2023-08-15</td>\n",
       "      <td>Second Class</td>\n",
       "      <td>Consumer</td>\n",
       "      <td>United States</td>\n",
       "      <td>Henderson</td>\n",
       "      <td>Kentucky</td>\n",
       "      <td>42420</td>\n",
       "      <td>South</td>\n",
       "      <td>Furniture</td>\n",
       "      <td>Chairs</td>\n",
       "      <td>FUR-CH-10000454</td>\n",
       "      <td>3</td>\n",
       "      <td>21.9</td>\n",
       "      <td>708.1</td>\n",
       "      <td>108.1</td>\n",
       "      <td>2023</td>\n",
       "    </tr>\n",
       "    <tr>\n",
       "      <th>2</th>\n",
       "      <td>3</td>\n",
       "      <td>2023-01-10</td>\n",
       "      <td>Second Class</td>\n",
       "      <td>Corporate</td>\n",
       "      <td>United States</td>\n",
       "      <td>Los Angeles</td>\n",
       "      <td>California</td>\n",
       "      <td>90036</td>\n",
       "      <td>West</td>\n",
       "      <td>Office Supplies</td>\n",
       "      <td>Labels</td>\n",
       "      <td>OFF-LA-10000240</td>\n",
       "      <td>2</td>\n",
       "      <td>0.5</td>\n",
       "      <td>9.5</td>\n",
       "      <td>-0.5</td>\n",
       "      <td>2023</td>\n",
       "    </tr>\n",
       "    <tr>\n",
       "      <th>3</th>\n",
       "      <td>4</td>\n",
       "      <td>2022-06-18</td>\n",
       "      <td>Standard Class</td>\n",
       "      <td>Consumer</td>\n",
       "      <td>United States</td>\n",
       "      <td>Fort Lauderdale</td>\n",
       "      <td>Florida</td>\n",
       "      <td>33311</td>\n",
       "      <td>South</td>\n",
       "      <td>Furniture</td>\n",
       "      <td>Tables</td>\n",
       "      <td>FUR-TA-10000577</td>\n",
       "      <td>5</td>\n",
       "      <td>19.2</td>\n",
       "      <td>940.8</td>\n",
       "      <td>160.8</td>\n",
       "      <td>2022</td>\n",
       "    </tr>\n",
       "    <tr>\n",
       "      <th>4</th>\n",
       "      <td>5</td>\n",
       "      <td>2022-07-13</td>\n",
       "      <td>Standard Class</td>\n",
       "      <td>Consumer</td>\n",
       "      <td>United States</td>\n",
       "      <td>Fort Lauderdale</td>\n",
       "      <td>Florida</td>\n",
       "      <td>33311</td>\n",
       "      <td>South</td>\n",
       "      <td>Office Supplies</td>\n",
       "      <td>Storage</td>\n",
       "      <td>OFF-ST-10000760</td>\n",
       "      <td>2</td>\n",
       "      <td>1.0</td>\n",
       "      <td>19.0</td>\n",
       "      <td>-1.0</td>\n",
       "      <td>2022</td>\n",
       "    </tr>\n",
       "  </tbody>\n",
       "</table>\n",
       "</div>"
      ],
      "text/plain": [
       "   order_id order_date       ship_mode    segment        country  \\\n",
       "0         1 2023-03-01    Second Class   Consumer  United States   \n",
       "1         2 2023-08-15    Second Class   Consumer  United States   \n",
       "2         3 2023-01-10    Second Class  Corporate  United States   \n",
       "3         4 2022-06-18  Standard Class   Consumer  United States   \n",
       "4         5 2022-07-13  Standard Class   Consumer  United States   \n",
       "\n",
       "              city       state  postal_code region         category  \\\n",
       "0        Henderson    Kentucky        42420  South        Furniture   \n",
       "1        Henderson    Kentucky        42420  South        Furniture   \n",
       "2      Los Angeles  California        90036   West  Office Supplies   \n",
       "3  Fort Lauderdale     Florida        33311  South        Furniture   \n",
       "4  Fort Lauderdale     Florida        33311  South  Office Supplies   \n",
       "\n",
       "  sub_category       product_id  quantity  discount  sale_price  profit  year  \n",
       "0    Bookcases  FUR-BO-10001798         2       5.2       254.8    14.8  2023  \n",
       "1       Chairs  FUR-CH-10000454         3      21.9       708.1   108.1  2023  \n",
       "2       Labels  OFF-LA-10000240         2       0.5         9.5    -0.5  2023  \n",
       "3       Tables  FUR-TA-10000577         5      19.2       940.8   160.8  2022  \n",
       "4      Storage  OFF-ST-10000760         2       1.0        19.0    -1.0  2022  "
      ]
     },
     "execution_count": 33,
     "metadata": {},
     "output_type": "execute_result"
    }
   ],
   "source": [
    "order.head()"
   ]
  },
  {
   "cell_type": "code",
   "execution_count": 34,
   "id": "841541b8-3527-495b-aeb4-85ffd74e376f",
   "metadata": {},
   "outputs": [
    {
     "data": {
      "text/plain": [
       "order_id        0\n",
       "order_date      0\n",
       "ship_mode       6\n",
       "segment         0\n",
       "country         0\n",
       "city            0\n",
       "state           0\n",
       "postal_code     0\n",
       "region          0\n",
       "category        0\n",
       "sub_category    0\n",
       "product_id      0\n",
       "quantity        0\n",
       "discount        0\n",
       "sale_price      0\n",
       "profit          0\n",
       "year            0\n",
       "dtype: int64"
      ]
     },
     "execution_count": 34,
     "metadata": {},
     "output_type": "execute_result"
    }
   ],
   "source": [
    "order.isnull().sum()"
   ]
  },
  {
   "cell_type": "code",
   "execution_count": 35,
   "id": "a808b0fc-1174-436d-be7b-2370fe51f020",
   "metadata": {},
   "outputs": [
    {
     "data": {
      "text/html": [
       "<div>\n",
       "<style scoped>\n",
       "    .dataframe tbody tr th:only-of-type {\n",
       "        vertical-align: middle;\n",
       "    }\n",
       "\n",
       "    .dataframe tbody tr th {\n",
       "        vertical-align: top;\n",
       "    }\n",
       "\n",
       "    .dataframe thead th {\n",
       "        text-align: right;\n",
       "    }\n",
       "</style>\n",
       "<table border=\"1\" class=\"dataframe\">\n",
       "  <thead>\n",
       "    <tr style=\"text-align: right;\">\n",
       "      <th></th>\n",
       "      <th>order_id</th>\n",
       "      <th>order_date</th>\n",
       "      <th>postal_code</th>\n",
       "      <th>quantity</th>\n",
       "      <th>discount</th>\n",
       "      <th>sale_price</th>\n",
       "      <th>profit</th>\n",
       "      <th>year</th>\n",
       "    </tr>\n",
       "  </thead>\n",
       "  <tbody>\n",
       "    <tr>\n",
       "      <th>count</th>\n",
       "      <td>9994.000000</td>\n",
       "      <td>9994</td>\n",
       "      <td>9994.000000</td>\n",
       "      <td>9994.000000</td>\n",
       "      <td>9994.000000</td>\n",
       "      <td>9994.000000</td>\n",
       "      <td>9994.000000</td>\n",
       "      <td>9994.000000</td>\n",
       "    </tr>\n",
       "    <tr>\n",
       "      <th>mean</th>\n",
       "      <td>4997.500000</td>\n",
       "      <td>2022-12-29 10:20:34.820892672</td>\n",
       "      <td>55190.379428</td>\n",
       "      <td>3.789574</td>\n",
       "      <td>8.037953</td>\n",
       "      <td>221.718901</td>\n",
       "      <td>20.529188</td>\n",
       "      <td>2022.495998</td>\n",
       "    </tr>\n",
       "    <tr>\n",
       "      <th>min</th>\n",
       "      <td>1.000000</td>\n",
       "      <td>2022-01-01 00:00:00</td>\n",
       "      <td>1040.000000</td>\n",
       "      <td>1.000000</td>\n",
       "      <td>0.000000</td>\n",
       "      <td>0.000000</td>\n",
       "      <td>-5.000000</td>\n",
       "      <td>2022.000000</td>\n",
       "    </tr>\n",
       "    <tr>\n",
       "      <th>25%</th>\n",
       "      <td>2499.250000</td>\n",
       "      <td>2022-06-29 00:00:00</td>\n",
       "      <td>23223.000000</td>\n",
       "      <td>2.000000</td>\n",
       "      <td>0.600000</td>\n",
       "      <td>19.200000</td>\n",
       "      <td>-0.400000</td>\n",
       "      <td>2022.000000</td>\n",
       "    </tr>\n",
       "    <tr>\n",
       "      <th>50%</th>\n",
       "      <td>4997.500000</td>\n",
       "      <td>2022-12-28 00:00:00</td>\n",
       "      <td>56430.500000</td>\n",
       "      <td>3.000000</td>\n",
       "      <td>1.800000</td>\n",
       "      <td>49.000000</td>\n",
       "      <td>6.000000</td>\n",
       "      <td>2022.000000</td>\n",
       "    </tr>\n",
       "    <tr>\n",
       "      <th>75%</th>\n",
       "      <td>7495.750000</td>\n",
       "      <td>2023-07-03 00:00:00</td>\n",
       "      <td>90008.000000</td>\n",
       "      <td>5.000000</td>\n",
       "      <td>7.000000</td>\n",
       "      <td>201.600000</td>\n",
       "      <td>16.700000</td>\n",
       "      <td>2023.000000</td>\n",
       "    </tr>\n",
       "    <tr>\n",
       "      <th>max</th>\n",
       "      <td>9994.000000</td>\n",
       "      <td>2023-12-31 00:00:00</td>\n",
       "      <td>99301.000000</td>\n",
       "      <td>14.000000</td>\n",
       "      <td>905.600000</td>\n",
       "      <td>21734.400000</td>\n",
       "      <td>3624.400000</td>\n",
       "      <td>2023.000000</td>\n",
       "    </tr>\n",
       "    <tr>\n",
       "      <th>std</th>\n",
       "      <td>2885.163629</td>\n",
       "      <td>NaN</td>\n",
       "      <td>32063.693350</td>\n",
       "      <td>2.225110</td>\n",
       "      <td>22.978004</td>\n",
       "      <td>601.399604</td>\n",
       "      <td>72.514547</td>\n",
       "      <td>0.500009</td>\n",
       "    </tr>\n",
       "  </tbody>\n",
       "</table>\n",
       "</div>"
      ],
      "text/plain": [
       "          order_id                     order_date   postal_code     quantity  \\\n",
       "count  9994.000000                           9994   9994.000000  9994.000000   \n",
       "mean   4997.500000  2022-12-29 10:20:34.820892672  55190.379428     3.789574   \n",
       "min       1.000000            2022-01-01 00:00:00   1040.000000     1.000000   \n",
       "25%    2499.250000            2022-06-29 00:00:00  23223.000000     2.000000   \n",
       "50%    4997.500000            2022-12-28 00:00:00  56430.500000     3.000000   \n",
       "75%    7495.750000            2023-07-03 00:00:00  90008.000000     5.000000   \n",
       "max    9994.000000            2023-12-31 00:00:00  99301.000000    14.000000   \n",
       "std    2885.163629                            NaN  32063.693350     2.225110   \n",
       "\n",
       "          discount    sale_price       profit         year  \n",
       "count  9994.000000   9994.000000  9994.000000  9994.000000  \n",
       "mean      8.037953    221.718901    20.529188  2022.495998  \n",
       "min       0.000000      0.000000    -5.000000  2022.000000  \n",
       "25%       0.600000     19.200000    -0.400000  2022.000000  \n",
       "50%       1.800000     49.000000     6.000000  2022.000000  \n",
       "75%       7.000000    201.600000    16.700000  2023.000000  \n",
       "max     905.600000  21734.400000  3624.400000  2023.000000  \n",
       "std      22.978004    601.399604    72.514547     0.500009  "
      ]
     },
     "execution_count": 35,
     "metadata": {},
     "output_type": "execute_result"
    }
   ],
   "source": [
    "order.describe()"
   ]
  },
  {
   "cell_type": "markdown",
   "id": "6d890ffc-a754-4ef5-aa57-16b6ab5d8ca0",
   "metadata": {},
   "source": [
    "#### data type optymalization"
   ]
  },
  {
   "cell_type": "code",
   "execution_count": 37,
   "id": "d2e76913-2f57-4bfa-9a36-d9ce10e1d48f",
   "metadata": {},
   "outputs": [
    {
     "name": "stdout",
     "output_type": "stream",
     "text": [
      "<class 'pandas.core.frame.DataFrame'>\n",
      "RangeIndex: 9994 entries, 0 to 9993\n",
      "Data columns (total 17 columns):\n",
      " #   Column        Non-Null Count  Dtype         \n",
      "---  ------        --------------  -----         \n",
      " 0   order_id      9994 non-null   int64         \n",
      " 1   order_date    9994 non-null   datetime64[ns]\n",
      " 2   ship_mode     9988 non-null   object        \n",
      " 3   segment       9994 non-null   object        \n",
      " 4   country       9994 non-null   object        \n",
      " 5   city          9994 non-null   object        \n",
      " 6   state         9994 non-null   object        \n",
      " 7   postal_code   9994 non-null   int64         \n",
      " 8   region        9994 non-null   object        \n",
      " 9   category      9994 non-null   object        \n",
      " 10  sub_category  9994 non-null   object        \n",
      " 11  product_id    9994 non-null   object        \n",
      " 12  quantity      9994 non-null   int64         \n",
      " 13  discount      9994 non-null   float64       \n",
      " 14  sale_price    9994 non-null   float64       \n",
      " 15  profit        9994 non-null   float64       \n",
      " 16  year          9994 non-null   int32         \n",
      "dtypes: datetime64[ns](1), float64(3), int32(1), int64(3), object(9)\n",
      "memory usage: 1.3+ MB\n"
     ]
    }
   ],
   "source": [
    "order.info()"
   ]
  },
  {
   "cell_type": "code",
   "execution_count": 38,
   "id": "c5c2762b-9ecf-4973-bd41-97d069687cd5",
   "metadata": {},
   "outputs": [
    {
     "data": {
      "text/plain": [
       "ship_mode\n",
       "Standard Class    5962\n",
       "Second Class      1945\n",
       "First Class       1538\n",
       "Same Day           543\n",
       "Name: count, dtype: int64"
      ]
     },
     "execution_count": 38,
     "metadata": {},
     "output_type": "execute_result"
    }
   ],
   "source": [
    "order['ship_mode'].value_counts()"
   ]
  },
  {
   "cell_type": "code",
   "execution_count": 39,
   "id": "2abd13e0-25cf-4ab9-a17e-955c92d4f646",
   "metadata": {},
   "outputs": [],
   "source": [
    "order['ship_mode'] = order['ship_mode'].astype('category')"
   ]
  },
  {
   "cell_type": "code",
   "execution_count": 40,
   "id": "df6ee344-ab9e-412e-b711-52630b5a858e",
   "metadata": {},
   "outputs": [
    {
     "data": {
      "text/plain": [
       "segment\n",
       "Consumer       5191\n",
       "Corporate      3020\n",
       "Home Office    1783\n",
       "Name: count, dtype: int64"
      ]
     },
     "execution_count": 40,
     "metadata": {},
     "output_type": "execute_result"
    }
   ],
   "source": [
    "order['segment'].value_counts()"
   ]
  },
  {
   "cell_type": "code",
   "execution_count": 41,
   "id": "53e0d5db-c049-4b3f-9e41-67df99de9c56",
   "metadata": {},
   "outputs": [],
   "source": [
    "order['segment'] = order['segment'].astype('category')"
   ]
  },
  {
   "cell_type": "code",
   "execution_count": 42,
   "id": "5310de96-eff7-4b79-8e39-799d0e264ff6",
   "metadata": {},
   "outputs": [
    {
     "data": {
      "text/plain": [
       "country\n",
       "United States    9994\n",
       "Name: count, dtype: int64"
      ]
     },
     "execution_count": 42,
     "metadata": {},
     "output_type": "execute_result"
    }
   ],
   "source": [
    "order['country'].value_counts()"
   ]
  },
  {
   "cell_type": "code",
   "execution_count": 43,
   "id": "fcf251a1-c257-4645-9fb8-38a01d3540c4",
   "metadata": {},
   "outputs": [],
   "source": [
    "order['country'] = order['country'].astype('category')"
   ]
  },
  {
   "cell_type": "code",
   "execution_count": 44,
   "id": "ed7fbba2-92a9-4141-bc5d-9bbb4c54490e",
   "metadata": {},
   "outputs": [
    {
     "data": {
      "text/plain": [
       "city\n",
       "New York City      915\n",
       "Los Angeles        747\n",
       "Philadelphia       537\n",
       "San Francisco      510\n",
       "Seattle            428\n",
       "                  ... \n",
       "Glenview             1\n",
       "Missouri City        1\n",
       "Rochester Hills      1\n",
       "Palatine             1\n",
       "Manhattan            1\n",
       "Name: count, Length: 531, dtype: int64"
      ]
     },
     "execution_count": 44,
     "metadata": {},
     "output_type": "execute_result"
    }
   ],
   "source": [
    "order['city'].value_counts()"
   ]
  },
  {
   "cell_type": "code",
   "execution_count": 45,
   "id": "77d436c1-2b40-42b2-91c5-70d8c785317a",
   "metadata": {},
   "outputs": [],
   "source": [
    "order['city'] = order['city'].astype('category')"
   ]
  },
  {
   "cell_type": "code",
   "execution_count": 46,
   "id": "f7df741f-3ea5-4928-b603-06d936648d3c",
   "metadata": {},
   "outputs": [],
   "source": [
    "order['state'] = order['state'].astype('category')"
   ]
  },
  {
   "cell_type": "code",
   "execution_count": 47,
   "id": "9c0718dc-40a9-4949-8d6f-d41b220324b5",
   "metadata": {},
   "outputs": [
    {
     "data": {
      "text/plain": [
       "postal_code\n",
       "10035    263\n",
       "10024    230\n",
       "10009    229\n",
       "94122    203\n",
       "10011    193\n",
       "        ... \n",
       "27534      1\n",
       "53186      1\n",
       "32503      1\n",
       "94509      1\n",
       "63376      1\n",
       "Name: count, Length: 631, dtype: int64"
      ]
     },
     "execution_count": 47,
     "metadata": {},
     "output_type": "execute_result"
    }
   ],
   "source": [
    "order['postal_code'].value_counts()"
   ]
  },
  {
   "cell_type": "code",
   "execution_count": 48,
   "id": "d7c41704-63ce-4a86-9317-d3112c5c997f",
   "metadata": {},
   "outputs": [],
   "source": [
    "order['postal_code'] = order['postal_code'].astype('category')"
   ]
  },
  {
   "cell_type": "code",
   "execution_count": 49,
   "id": "486144c8-7469-4f8e-b59a-2a5df00ab247",
   "metadata": {},
   "outputs": [
    {
     "data": {
      "text/plain": [
       "region\n",
       "West       3203\n",
       "East       2848\n",
       "Central    2323\n",
       "South      1620\n",
       "Name: count, dtype: int64"
      ]
     },
     "execution_count": 49,
     "metadata": {},
     "output_type": "execute_result"
    }
   ],
   "source": [
    "order['region'].value_counts()"
   ]
  },
  {
   "cell_type": "code",
   "execution_count": 50,
   "id": "cd18e57e-250a-4243-a744-b9067b817e75",
   "metadata": {},
   "outputs": [],
   "source": [
    "order['region'] = order['region'].astype('category')"
   ]
  },
  {
   "cell_type": "code",
   "execution_count": 51,
   "id": "333414d1-c8e9-4d4d-bc8d-5759920eec12",
   "metadata": {},
   "outputs": [
    {
     "data": {
      "text/plain": [
       "category\n",
       "Office Supplies    6026\n",
       "Furniture          2121\n",
       "Technology         1847\n",
       "Name: count, dtype: int64"
      ]
     },
     "execution_count": 51,
     "metadata": {},
     "output_type": "execute_result"
    }
   ],
   "source": [
    "order['category'].value_counts()"
   ]
  },
  {
   "cell_type": "code",
   "execution_count": 52,
   "id": "5c1bbf1b-d038-483a-b0eb-9b2f4658dc54",
   "metadata": {},
   "outputs": [],
   "source": [
    "order['category'] = order['category'].astype('category')"
   ]
  },
  {
   "cell_type": "code",
   "execution_count": 53,
   "id": "44e8ce83-ec47-4303-b249-68281aecb245",
   "metadata": {},
   "outputs": [
    {
     "data": {
      "text/plain": [
       "sub_category\n",
       "Binders        1523\n",
       "Paper          1370\n",
       "Furnishings     957\n",
       "Phones          889\n",
       "Storage         846\n",
       "Art             796\n",
       "Accessories     775\n",
       "Chairs          617\n",
       "Appliances      466\n",
       "Labels          364\n",
       "Tables          319\n",
       "Envelopes       254\n",
       "Bookcases       228\n",
       "Fasteners       217\n",
       "Supplies        190\n",
       "Machines        115\n",
       "Copiers          68\n",
       "Name: count, dtype: int64"
      ]
     },
     "execution_count": 53,
     "metadata": {},
     "output_type": "execute_result"
    }
   ],
   "source": [
    "order['sub_category'].value_counts()"
   ]
  },
  {
   "cell_type": "code",
   "execution_count": 54,
   "id": "c6b91627-726f-42b4-808d-9abaa4e126b8",
   "metadata": {},
   "outputs": [],
   "source": [
    "order['sub_category'] = order['sub_category'].astype('category')"
   ]
  },
  {
   "cell_type": "code",
   "execution_count": 55,
   "id": "31767c5a-f6a7-4395-a782-92a8a0abe0c5",
   "metadata": {},
   "outputs": [
    {
     "data": {
      "text/plain": [
       "product_id\n",
       "OFF-PA-10001970    19\n",
       "TEC-AC-10003832    18\n",
       "FUR-FU-10004270    16\n",
       "FUR-CH-10001146    15\n",
       "TEC-AC-10003628    15\n",
       "                   ..\n",
       "TEC-PH-10003535     1\n",
       "TEC-MA-10002937     1\n",
       "OFF-AR-10004974     1\n",
       "TEC-AC-10004814     1\n",
       "OFF-ST-10001627     1\n",
       "Name: count, Length: 1862, dtype: int64"
      ]
     },
     "execution_count": 55,
     "metadata": {},
     "output_type": "execute_result"
    }
   ],
   "source": [
    "order['product_id'].value_counts()"
   ]
  },
  {
   "cell_type": "code",
   "execution_count": 56,
   "id": "c22cafb9-0f06-4874-8d33-2cc32d354f43",
   "metadata": {},
   "outputs": [
    {
     "name": "stdout",
     "output_type": "stream",
     "text": [
      "<class 'pandas.core.frame.DataFrame'>\n",
      "RangeIndex: 9994 entries, 0 to 9993\n",
      "Data columns (total 17 columns):\n",
      " #   Column        Non-Null Count  Dtype         \n",
      "---  ------        --------------  -----         \n",
      " 0   order_id      9994 non-null   int64         \n",
      " 1   order_date    9994 non-null   datetime64[ns]\n",
      " 2   ship_mode     9988 non-null   category      \n",
      " 3   segment       9994 non-null   category      \n",
      " 4   country       9994 non-null   category      \n",
      " 5   city          9994 non-null   category      \n",
      " 6   state         9994 non-null   category      \n",
      " 7   postal_code   9994 non-null   category      \n",
      " 8   region        9994 non-null   category      \n",
      " 9   category      9994 non-null   category      \n",
      " 10  sub_category  9994 non-null   category      \n",
      " 11  product_id    9994 non-null   object        \n",
      " 12  quantity      9994 non-null   int64         \n",
      " 13  discount      9994 non-null   float64       \n",
      " 14  sale_price    9994 non-null   float64       \n",
      " 15  profit        9994 non-null   float64       \n",
      " 16  year          9994 non-null   int32         \n",
      "dtypes: category(9), datetime64[ns](1), float64(3), int32(1), int64(2), object(1)\n",
      "memory usage: 737.4+ KB\n"
     ]
    }
   ],
   "source": [
    "order.info()"
   ]
  },
  {
   "cell_type": "markdown",
   "id": "b840a8f0-b9df-45de-b1e9-2837efc0a747",
   "metadata": {},
   "source": [
    "#### summary sale_price and profit"
   ]
  },
  {
   "cell_type": "code",
   "execution_count": 58,
   "id": "6f7cd769-5c2d-4d41-b914-db59e6fda30b",
   "metadata": {},
   "outputs": [
    {
     "name": "stdout",
     "output_type": "stream",
     "text": [
      "The total sales amount to: 2215858 \n",
      "The total profit amount to: 205168 \n"
     ]
    }
   ],
   "source": [
    "order['sale_price'].sum()\n",
    "order['profit'].sum()\n",
    "print('The total sales amount to: %d ' % (order['sale_price'].sum()) )\n",
    "print('The total profit amount to: %d ' % (order['profit'].sum()) )"
   ]
  },
  {
   "cell_type": "markdown",
   "id": "aa7a9ece-872f-4f7d-ba2b-9f3cf08bc1d5",
   "metadata": {},
   "source": [
    "#### sales by regions and categories"
   ]
  },
  {
   "cell_type": "code",
   "execution_count": 60,
   "id": "122c7370-306f-4467-a1ef-5dc0fdfcd347",
   "metadata": {},
   "outputs": [
    {
     "name": "stderr",
     "output_type": "stream",
     "text": [
      "C:\\Users\\admar\\AppData\\Local\\Temp\\ipykernel_15088\\150113809.py:1: FutureWarning: The default value of observed=False is deprecated and will change to observed=True in a future version of pandas. Specify observed=False to silence this warning and retain the current behavior\n",
      "  ptRegCat = order.pivot_table(values=['sale_price','profit'],index='region',columns='category',aggfunc='sum')\n"
     ]
    }
   ],
   "source": [
    "ptRegCat = order.pivot_table(values=['sale_price','profit'],index='region',columns='category',aggfunc='sum')"
   ]
  },
  {
   "cell_type": "code",
   "execution_count": 61,
   "id": "4a6bd0fd-64a9-4b99-90ab-f6d1c74655d7",
   "metadata": {},
   "outputs": [],
   "source": [
    "ptRegCatsw = ptRegCat.swaplevel(axis='columns')"
   ]
  },
  {
   "cell_type": "code",
   "execution_count": 62,
   "id": "a486c07a-66e5-45b8-8986-6ce147f9da6d",
   "metadata": {},
   "outputs": [
    {
     "data": {
      "text/html": [
       "<div>\n",
       "<style scoped>\n",
       "    .dataframe tbody tr th:only-of-type {\n",
       "        vertical-align: middle;\n",
       "    }\n",
       "\n",
       "    .dataframe tbody tr th {\n",
       "        vertical-align: top;\n",
       "    }\n",
       "\n",
       "    .dataframe thead tr th {\n",
       "        text-align: left;\n",
       "    }\n",
       "\n",
       "    .dataframe thead tr:last-of-type th {\n",
       "        text-align: right;\n",
       "    }\n",
       "</style>\n",
       "<table border=\"1\" class=\"dataframe\">\n",
       "  <thead>\n",
       "    <tr>\n",
       "      <th>category</th>\n",
       "      <th>Furniture</th>\n",
       "      <th>Office Supplies</th>\n",
       "      <th>Technology</th>\n",
       "      <th>Furniture</th>\n",
       "      <th>Office Supplies</th>\n",
       "      <th>Technology</th>\n",
       "    </tr>\n",
       "    <tr>\n",
       "      <th></th>\n",
       "      <th>profit</th>\n",
       "      <th>profit</th>\n",
       "      <th>profit</th>\n",
       "      <th>sale_price</th>\n",
       "      <th>sale_price</th>\n",
       "      <th>sale_price</th>\n",
       "    </tr>\n",
       "    <tr>\n",
       "      <th>region</th>\n",
       "      <th></th>\n",
       "      <th></th>\n",
       "      <th></th>\n",
       "      <th></th>\n",
       "      <th></th>\n",
       "      <th></th>\n",
       "    </tr>\n",
       "  </thead>\n",
       "  <tbody>\n",
       "    <tr>\n",
       "      <th>Central</th>\n",
       "      <td>15998.5</td>\n",
       "      <td>14507.5</td>\n",
       "      <td>15872.6</td>\n",
       "      <td>158038.5</td>\n",
       "      <td>161077.5</td>\n",
       "      <td>164552.6</td>\n",
       "    </tr>\n",
       "    <tr>\n",
       "      <th>East</th>\n",
       "      <td>17549.6</td>\n",
       "      <td>16788.6</td>\n",
       "      <td>23881.8</td>\n",
       "      <td>200589.6</td>\n",
       "      <td>198148.6</td>\n",
       "      <td>255581.8</td>\n",
       "    </tr>\n",
       "    <tr>\n",
       "      <th>South</th>\n",
       "      <td>11071.2</td>\n",
       "      <td>12233.9</td>\n",
       "      <td>14706.4</td>\n",
       "      <td>113141.2</td>\n",
       "      <td>121263.9</td>\n",
       "      <td>143606.4</td>\n",
       "    </tr>\n",
       "    <tr>\n",
       "      <th>West</th>\n",
       "      <td>21861.4</td>\n",
       "      <td>18724.5</td>\n",
       "      <td>21972.7</td>\n",
       "      <td>243571.4</td>\n",
       "      <td>213154.5</td>\n",
       "      <td>243132.7</td>\n",
       "    </tr>\n",
       "  </tbody>\n",
       "</table>\n",
       "</div>"
      ],
      "text/plain": [
       "category Furniture Office Supplies Technology  Furniture Office Supplies  \\\n",
       "            profit          profit     profit sale_price      sale_price   \n",
       "region                                                                     \n",
       "Central    15998.5         14507.5    15872.6   158038.5        161077.5   \n",
       "East       17549.6         16788.6    23881.8   200589.6        198148.6   \n",
       "South      11071.2         12233.9    14706.4   113141.2        121263.9   \n",
       "West       21861.4         18724.5    21972.7   243571.4        213154.5   \n",
       "\n",
       "category Technology  \n",
       "         sale_price  \n",
       "region               \n",
       "Central    164552.6  \n",
       "East       255581.8  \n",
       "South      143606.4  \n",
       "West       243132.7  "
      ]
     },
     "execution_count": 62,
     "metadata": {},
     "output_type": "execute_result"
    }
   ],
   "source": [
    "ptRegCatsw"
   ]
  },
  {
   "cell_type": "code",
   "execution_count": 63,
   "id": "c244d819-f355-4f6b-a0e5-c368ca2f8f10",
   "metadata": {},
   "outputs": [
    {
     "data": {
      "text/plain": [
       "MultiIndex([(      'Furniture',     'profit'),\n",
       "            ('Office Supplies',     'profit'),\n",
       "            (     'Technology',     'profit'),\n",
       "            (      'Furniture', 'sale_price'),\n",
       "            ('Office Supplies', 'sale_price'),\n",
       "            (     'Technology', 'sale_price')],\n",
       "           names=['category', None])"
      ]
     },
     "execution_count": 63,
     "metadata": {},
     "output_type": "execute_result"
    }
   ],
   "source": [
    "ptRegCatsw.columns"
   ]
  },
  {
   "cell_type": "code",
   "execution_count": 64,
   "id": "c2ae27b7-a0cd-4eb5-8b91-354a9abd4fba",
   "metadata": {},
   "outputs": [
    {
     "data": {
      "text/plain": [
       "<Axes: title={'center': 'Profit per region'}, xlabel='region'>"
      ]
     },
     "execution_count": 64,
     "metadata": {},
     "output_type": "execute_result"
    },
    {
     "data": {
      "image/png": "[encoded data removed]",
      "text/plain": [
       "<Figure size 700x500 with 1 Axes>"
      ]
     },
     "metadata": {},
     "output_type": "display_data"
    }
   ],
   "source": [
    "ptRegCatsw[[(      'Furniture',     'profit'),\n",
    "            ('Office Supplies',     'profit'),\n",
    "            (     'Technology',     'profit')]].plot(kind='bar',figsize=(7,5),title='Profit per region')"
   ]
  },
  {
   "cell_type": "code",
   "execution_count": 65,
   "id": "d2994bc0-7e77-4d03-8930-79ed20f15425",
   "metadata": {},
   "outputs": [
    {
     "data": {
      "text/plain": [
       "<Axes: title={'center': 'Sale price per region'}, xlabel='region'>"
      ]
     },
     "execution_count": 65,
     "metadata": {},
     "output_type": "execute_result"
    },
    {
     "data": {
      "image/png": "[encoded data removed]",
      "text/plain": [
       "<Figure size 700x500 with 1 Axes>"
      ]
     },
     "metadata": {},
     "output_type": "display_data"
    }
   ],
   "source": [
    "ptRegCatsw[[('Furniture', 'sale_price'),\n",
    "            ('Office Supplies', 'sale_price'),\n",
    "            (     'Technology', 'sale_price')]].plot(kind='bar',figsize=(7,5),title='Sale price per region')"
   ]
  },
  {
   "cell_type": "markdown",
   "id": "6585361d-154e-4593-8d00-0fae16000f63",
   "metadata": {},
   "source": [
    "#### average sales per order"
   ]
  },
  {
   "cell_type": "code",
   "execution_count": 67,
   "id": "a5100bb1-5e75-48a3-b834-084a31c700ea",
   "metadata": {},
   "outputs": [
    {
     "data": {
      "text/plain": [
       "221.7189013408045"
      ]
     },
     "execution_count": 67,
     "metadata": {},
     "output_type": "execute_result"
    }
   ],
   "source": [
    "order['sale_price'].mean()"
   ]
  },
  {
   "cell_type": "code",
   "execution_count": 68,
   "id": "1cc4be1e-4474-41c3-b825-339e5a9847ae",
   "metadata": {},
   "outputs": [
    {
     "name": "stdout",
     "output_type": "stream",
     "text": [
      "The average order price is 221.718901\n"
     ]
    }
   ],
   "source": [
    "print('The average order price is %f' %(order['sale_price'].mean()))"
   ]
  },
  {
   "cell_type": "markdown",
   "id": "4ee818ae-3cac-41d4-b7e4-633c0797edd0",
   "metadata": {},
   "source": [
    "#### how daes a discount affect profit ?"
   ]
  },
  {
   "cell_type": "code",
   "execution_count": 70,
   "id": "ea7ec6db-ed46-4971-834a-43555c419bd5",
   "metadata": {},
   "outputs": [],
   "source": [
    "orderAbove = order[order['discount'] > 10]"
   ]
  },
  {
   "cell_type": "code",
   "execution_count": 71,
   "id": "4d73df4b-b5a9-4a26-b48b-3253d4decd8b",
   "metadata": {},
   "outputs": [
    {
     "data": {
      "text/plain": [
       "<Axes: title={'center': 'The impact of a discount on profit'}, xlabel='discount', ylabel='profit'>"
      ]
     },
     "execution_count": 71,
     "metadata": {},
     "output_type": "execute_result"
    },
    {
     "data": {
      "image/png": "[encoded data removed]",
      "text/plain": [
       "<Figure size 700x500 with 1 Axes>"
      ]
     },
     "metadata": {},
     "output_type": "display_data"
    }
   ],
   "source": [
    "orderAbove.plot(kind='scatter',y='profit',x='discount',s=5,figsize=(7,5),title='The impact of a discount on profit')"
   ]
  },
  {
   "cell_type": "markdown",
   "id": "59029e83-4700-4dec-95bc-47d8cdd55e9a",
   "metadata": {},
   "source": [
    "#### Customer segment analysis"
   ]
  },
  {
   "cell_type": "code",
   "execution_count": 73,
   "id": "c9a59783-4631-4e6a-b6b5-e296db646f17",
   "metadata": {},
   "outputs": [
    {
     "data": {
      "text/plain": [
       "['Consumer', 'Corporate', 'Home Office']\n",
       "Categories (3, object): ['Consumer', 'Corporate', 'Home Office']"
      ]
     },
     "execution_count": 73,
     "metadata": {},
     "output_type": "execute_result"
    }
   ],
   "source": [
    "order['segment'].unique()"
   ]
  },
  {
   "cell_type": "code",
   "execution_count": 74,
   "id": "553f0c96-0293-4aa3-8e8d-8b856d09e33f",
   "metadata": {},
   "outputs": [
    {
     "name": "stderr",
     "output_type": "stream",
     "text": [
      "C:\\Users\\admar\\AppData\\Local\\Temp\\ipykernel_15088\\1051397184.py:1: FutureWarning: The default value of observed=False is deprecated and will change to observed=True in a future version of pandas. Specify observed=False to silence this warning and retain the current behavior\n",
      "  CustSeg = order.pivot_table(index='segment',values=['profit','sale_price'],aggfunc='sum')\n"
     ]
    }
   ],
   "source": [
    "CustSeg = order.pivot_table(index='segment',values=['profit','sale_price'],aggfunc='sum')"
   ]
  },
  {
   "cell_type": "code",
   "execution_count": 75,
   "id": "ed0dbc1d-4eaa-433e-9588-4c7d1173f194",
   "metadata": {},
   "outputs": [
    {
     "data": {
      "text/html": [
       "<div>\n",
       "<style scoped>\n",
       "    .dataframe tbody tr th:only-of-type {\n",
       "        vertical-align: middle;\n",
       "    }\n",
       "\n",
       "    .dataframe tbody tr th {\n",
       "        vertical-align: top;\n",
       "    }\n",
       "\n",
       "    .dataframe thead th {\n",
       "        text-align: right;\n",
       "    }\n",
       "</style>\n",
       "<table border=\"1\" class=\"dataframe\">\n",
       "  <thead>\n",
       "    <tr style=\"text-align: right;\">\n",
       "      <th></th>\n",
       "      <th>profit</th>\n",
       "      <th>sale_price</th>\n",
       "    </tr>\n",
       "    <tr>\n",
       "      <th>segment</th>\n",
       "      <th></th>\n",
       "      <th></th>\n",
       "    </tr>\n",
       "  </thead>\n",
       "  <tbody>\n",
       "    <tr>\n",
       "      <th>Consumer</th>\n",
       "      <td>101586.0</td>\n",
       "      <td>1119696.0</td>\n",
       "    </tr>\n",
       "    <tr>\n",
       "      <th>Corporate</th>\n",
       "      <td>65637.7</td>\n",
       "      <td>681657.7</td>\n",
       "    </tr>\n",
       "    <tr>\n",
       "      <th>Home Office</th>\n",
       "      <td>37945.0</td>\n",
       "      <td>414505.0</td>\n",
       "    </tr>\n",
       "  </tbody>\n",
       "</table>\n",
       "</div>"
      ],
      "text/plain": [
       "               profit  sale_price\n",
       "segment                          \n",
       "Consumer     101586.0   1119696.0\n",
       "Corporate     65637.7    681657.7\n",
       "Home Office   37945.0    414505.0"
      ]
     },
     "execution_count": 75,
     "metadata": {},
     "output_type": "execute_result"
    }
   ],
   "source": [
    "CustSeg"
   ]
  },
  {
   "cell_type": "code",
   "execution_count": 76,
   "id": "abf97572-a834-4a51-b117-fe66a513fdb7",
   "metadata": {},
   "outputs": [
    {
     "data": {
      "image/png": "[encoded data removed]",
      "text/plain": [
       "<Figure size 640x480 with 1 Axes>"
      ]
     },
     "metadata": {},
     "output_type": "display_data"
    }
   ],
   "source": [
    "CustSeg.plot(kind='bar',title='Profit and sale price per sales segment').ticklabel_format(style='plain',axis='y')"
   ]
  },
  {
   "cell_type": "markdown",
   "id": "0cef4508-2956-4e22-b922-f016541f7fda",
   "metadata": {},
   "source": [
    "### average order value per segments"
   ]
  },
  {
   "cell_type": "code",
   "execution_count": 78,
   "id": "34eea087-70e6-4db2-8d73-ee53cefc0a87",
   "metadata": {},
   "outputs": [
    {
     "name": "stderr",
     "output_type": "stream",
     "text": [
      "C:\\Users\\admar\\AppData\\Local\\Temp\\ipykernel_15088\\2586486282.py:1: FutureWarning: The default value of observed=False is deprecated and will change to observed=True in a future version of pandas. Specify observed=False to silence this warning and retain the current behavior\n",
      "  avgOrderBySeg = order.pivot_table(index='segment',values=['sale_price'],aggfunc='mean')\n"
     ]
    }
   ],
   "source": [
    "avgOrderBySeg = order.pivot_table(index='segment',values=['sale_price'],aggfunc='mean')"
   ]
  },
  {
   "cell_type": "code",
   "execution_count": 79,
   "id": "c2f20420-0fc6-44fc-b6da-b622e77b5a70",
   "metadata": {},
   "outputs": [
    {
     "data": {
      "text/html": [
       "<div>\n",
       "<style scoped>\n",
       "    .dataframe tbody tr th:only-of-type {\n",
       "        vertical-align: middle;\n",
       "    }\n",
       "\n",
       "    .dataframe tbody tr th {\n",
       "        vertical-align: top;\n",
       "    }\n",
       "\n",
       "    .dataframe thead th {\n",
       "        text-align: right;\n",
       "    }\n",
       "</style>\n",
       "<table border=\"1\" class=\"dataframe\">\n",
       "  <thead>\n",
       "    <tr style=\"text-align: right;\">\n",
       "      <th></th>\n",
       "      <th>sale_price</th>\n",
       "    </tr>\n",
       "    <tr>\n",
       "      <th>segment</th>\n",
       "      <th></th>\n",
       "    </tr>\n",
       "  </thead>\n",
       "  <tbody>\n",
       "    <tr>\n",
       "      <th>Consumer</th>\n",
       "      <td>215.699480</td>\n",
       "    </tr>\n",
       "    <tr>\n",
       "      <th>Corporate</th>\n",
       "      <td>225.714470</td>\n",
       "    </tr>\n",
       "    <tr>\n",
       "      <th>Home Office</th>\n",
       "      <td>232.476164</td>\n",
       "    </tr>\n",
       "  </tbody>\n",
       "</table>\n",
       "</div>"
      ],
      "text/plain": [
       "             sale_price\n",
       "segment                \n",
       "Consumer     215.699480\n",
       "Corporate    225.714470\n",
       "Home Office  232.476164"
      ]
     },
     "execution_count": 79,
     "metadata": {},
     "output_type": "execute_result"
    }
   ],
   "source": [
    "avgOrderBySeg"
   ]
  },
  {
   "cell_type": "code",
   "execution_count": 80,
   "id": "634d8493-5feb-4735-8027-d11c8a57859d",
   "metadata": {},
   "outputs": [
    {
     "data": {
      "text/plain": [
       "<Axes: title={'center': 'average sale price'}, xlabel='segment'>"
      ]
     },
     "execution_count": 80,
     "metadata": {},
     "output_type": "execute_result"
    },
    {
     "data": {
      "image/png": "[encoded data removed]",
      "text/plain": [
       "<Figure size 640x480 with 1 Axes>"
      ]
     },
     "metadata": {},
     "output_type": "display_data"
    }
   ],
   "source": [
    "avgOrderBySeg.plot(kind='bar',title='average sale price',legend=False)"
   ]
  },
  {
   "cell_type": "markdown",
   "id": "9e4b17a5-ca5a-4afe-ace1-fed1b1528f71",
   "metadata": {},
   "source": [
    "### sales in time"
   ]
  },
  {
   "cell_type": "code",
   "execution_count": 115,
   "id": "9e01881c-a030-42da-bd32-4562a8609dae",
   "metadata": {},
   "outputs": [],
   "source": [
    "orderCopy = order.copy()"
   ]
  },
  {
   "cell_type": "code",
   "execution_count": 117,
   "id": "90ffe214-d4dd-4b25-917d-28da50a18af2",
   "metadata": {},
   "outputs": [
    {
     "name": "stdout",
     "output_type": "stream",
     "text": [
      "The total sales in 2022 and 2023 amounted to 2215858.700000\n"
     ]
    }
   ],
   "source": [
    "orderCopy.groupby(order['year'])['sale_price'].sum().sum()\n",
    "print('The total sales in 2022 and 2023 amounted to %f' % (order.groupby(order['year'])['sale_price'].sum().sum()))"
   ]
  },
  {
   "cell_type": "code",
   "execution_count": 119,
   "id": "c672f918-cad7-4baa-8c04-f294d7b4bca7",
   "metadata": {},
   "outputs": [],
   "source": [
    "orderCopy['total_sum_percent'] = orderCopy.groupby(order['year'])['sale_price'].sum() / orderCopy.groupby(order['year'])['sale_price'].sum().sum()"
   ]
  },
  {
   "cell_type": "code",
   "execution_count": 147,
   "id": "673fe954-cb89-4809-ba43-3b643667f471",
   "metadata": {},
   "outputs": [],
   "source": [
    "salesInTime = orderCopy.groupby(order['year'])['sale_price'].sum().to_frame()"
   ]
  },
  {
   "cell_type": "code",
   "execution_count": 151,
   "id": "26527003-2bb5-4dc2-8722-f48ade359942",
   "metadata": {},
   "outputs": [
    {
     "data": {
      "text/plain": [
       "array([<Axes: ylabel='sale_price'>], dtype=object)"
      ]
     },
     "execution_count": 151,
     "metadata": {},
     "output_type": "execute_result"
    },
    {
     "data": {
      "image/png": "[encoded data removed]",
      "text/plain": [
       "<Figure size 640x480 with 1 Axes>"
      ]
     },
     "metadata": {},
     "output_type": "display_data"
    }
   ],
   "source": [
    "salesInTime.plot(kind='pie',subplots=True)"
   ]
  },
  {
   "cell_type": "markdown",
   "id": "a7a816ff-4314-4976-9340-e5e0e5ee0e36",
   "metadata": {},
   "source": [
    "#### sales by month"
   ]
  },
  {
   "cell_type": "code",
   "execution_count": null,
   "id": "f3b86d1f-c2ee-4084-a104-963eadf85e9c",
   "metadata": {},
   "outputs": [],
   "source": [
    "order['month'] = order['order_date'].dt.month"
   ]
  },
  {
   "cell_type": "code",
   "execution_count": null,
   "id": "ae5cf60e-a16e-4510-98fd-5df7b0fa4fc9",
   "metadata": {},
   "outputs": [],
   "source": [
    "groupsSalesSeason = order.groupby(['month','category'])['sale_price'].sum().to_frame()"
   ]
  },
  {
   "cell_type": "code",
   "execution_count": null,
   "id": "1cfdceb6-a027-4704-9a38-da0aea09ea4f",
   "metadata": {},
   "outputs": [],
   "source": [
    "groupsSalesSeason.head()"
   ]
  },
  {
   "cell_type": "code",
   "execution_count": null,
   "id": "b1a55333-7d3c-4f43-92b4-e4b73e790c3b",
   "metadata": {},
   "outputs": [],
   "source": [
    "groupsSalesSeason2 = groupsSalesSeason.unstack()"
   ]
  },
  {
   "cell_type": "code",
   "execution_count": null,
   "id": "f362cbdd-0f39-4b88-8dd0-f9ad3bb937a7",
   "metadata": {},
   "outputs": [],
   "source": [
    "groupsSalesSeason2.plot(kind='bar',title='sales by month')"
   ]
  },
  {
   "cell_type": "markdown",
   "id": "8de951e6-368d-47de-800d-d0ddefcba771",
   "metadata": {},
   "source": [
    "#### top 10 bestselling products"
   ]
  },
  {
   "cell_type": "code",
   "execution_count": null,
   "id": "a8265e2c-84ff-4aa2-bc4f-2ea048e55356",
   "metadata": {},
   "outputs": [],
   "source": [
    "bestselling = order[['product_id','sale_price']].sort_values(by='sale_price')"
   ]
  },
  {
   "cell_type": "code",
   "execution_count": null,
   "id": "ffb98c25-eeb6-4333-94ce-70dea45b9e72",
   "metadata": {},
   "outputs": [],
   "source": [
    "bestsellingFr = bestselling.groupby('product_id')['sale_price'].sum().to_frame()"
   ]
  },
  {
   "cell_type": "code",
   "execution_count": null,
   "id": "5e4352c5-b6a0-462a-b17f-99ce700679ef",
   "metadata": {},
   "outputs": [],
   "source": [
    "bestsellingFr.sort_values(by='sale_price',ascending=False).head(10)"
   ]
  },
  {
   "cell_type": "markdown",
   "id": "16d8e63e-119c-4afa-922f-47fbcd761a23",
   "metadata": {},
   "source": [
    "#### product that were not sold"
   ]
  },
  {
   "cell_type": "code",
   "execution_count": null,
   "id": "978d2538-7d83-432a-82fc-081daddaec85",
   "metadata": {},
   "outputs": [],
   "source": [
    "with pd.option_context('display.max_rows', None):\n",
    "    print(bestselling.query('sale_price == 0')['product_id'])"
   ]
  },
  {
   "cell_type": "code",
   "execution_count": null,
   "id": "1898cbd1-b40f-4bb3-a731-ad3b37c0c77b",
   "metadata": {},
   "outputs": [],
   "source": [
    "order.columns"
   ]
  },
  {
   "cell_type": "markdown",
   "id": "f3648787-a560-4d43-9017-5a971c92f824",
   "metadata": {},
   "source": [
    "#### Margin analysis"
   ]
  },
  {
   "cell_type": "code",
   "execution_count": null,
   "id": "9fd01a38-af34-4428-b51b-c478c9854e3d",
   "metadata": {},
   "outputs": [],
   "source": [
    "margin = order['profit']/order['sale_price']"
   ]
  },
  {
   "cell_type": "code",
   "execution_count": null,
   "id": "e8216d61-a7b5-45a5-967f-83bc5c9533f0",
   "metadata": {},
   "outputs": [],
   "source": [
    "order['margin'] = margin"
   ]
  },
  {
   "cell_type": "code",
   "execution_count": null,
   "id": "211ddcea-1031-4da9-8260-895436ea8b99",
   "metadata": {},
   "outputs": [],
   "source": [
    "order[['product_id','margin']].sort_values(by='margin',ascending=False).dropna()"
   ]
  },
  {
   "cell_type": "code",
   "execution_count": null,
   "id": "e3100ba6-5da3-463c-8840-0961e993ac04",
   "metadata": {},
   "outputs": [],
   "source": [
    "order['margin'].plot(kind='box',title='Distribution of product margins')"
   ]
  },
  {
   "cell_type": "markdown",
   "id": "eef8494f-599e-4786-a3e1-e72642ccac99",
   "metadata": {},
   "source": [
    "#### products with the highest margin (4th quartile)"
   ]
  },
  {
   "cell_type": "code",
   "execution_count": null,
   "id": "84823f4c-c3bd-4060-83a2-164cc05c8f50",
   "metadata": {},
   "outputs": [],
   "source": [
    "order['margin'].quantile(0.75)"
   ]
  },
  {
   "cell_type": "code",
   "execution_count": null,
   "id": "543614a0-c420-41ca-84b9-9a73e97e738d",
   "metadata": {},
   "outputs": [],
   "source": [
    "kwantyl = order['margin'] >= order['margin'].quantile(0.75)"
   ]
  },
  {
   "cell_type": "code",
   "execution_count": null,
   "id": "94cdb551-2eb5-420c-ae4d-cf1f82bbf59b",
   "metadata": {},
   "outputs": [],
   "source": [
    "kwantyl"
   ]
  },
  {
   "cell_type": "code",
   "execution_count": null,
   "id": "79d6b01f-db2a-462b-a4fc-b35f25656fd3",
   "metadata": {},
   "outputs": [],
   "source": [
    "with pd.option_context('display.max_rows', None):\n",
    "    print(order[kwantyl].product_id)"
   ]
  },
  {
   "cell_type": "markdown",
   "id": "fbf04287-80bb-4ed2-af6c-3facf522f56c",
   "metadata": {},
   "source": [
    "#### products with the lowest margin (4th quartile)"
   ]
  },
  {
   "cell_type": "code",
   "execution_count": null,
   "id": "6bcb0956-3454-4a32-9e1b-c153ad8dbfd4",
   "metadata": {},
   "outputs": [],
   "source": [
    "order['margin'].quantile(0.25)"
   ]
  },
  {
   "cell_type": "code",
   "execution_count": null,
   "id": "810eb667-8547-4238-a316-33ac9ff2e271",
   "metadata": {},
   "outputs": [],
   "source": [
    "firstquantile = order['margin'] < order['margin'].quantile(0.25)"
   ]
  },
  {
   "cell_type": "code",
   "execution_count": null,
   "id": "8046bcf0-ad06-4500-9cd1-ff2c08a94e56",
   "metadata": {},
   "outputs": [],
   "source": [
    "with pd.option_context('display.max_rows', None):\n",
    "    print(order[firstquantile].product_id)"
   ]
  },
  {
   "cell_type": "markdown",
   "id": "77695c98-f3d3-4536-a237-ea3e8be9aae4",
   "metadata": {},
   "source": [
    "#### sales by categorie and subcategories"
   ]
  },
  {
   "cell_type": "code",
   "execution_count": null,
   "id": "38f03ab0-2c1f-43ae-95c6-ddc3f4ade663",
   "metadata": {},
   "outputs": [],
   "source": [
    "order.groupby(['category'])['sale_price'].sum().plot(kind='bar')"
   ]
  },
  {
   "cell_type": "code",
   "execution_count": null,
   "id": "9bc00221-039d-4e4e-a530-a688ecece741",
   "metadata": {},
   "outputs": [],
   "source": [
    "order.groupby(['sub_category'])['sale_price'].sum().sort_values(ascending=False).plot(kind='bar')"
   ]
  },
  {
   "cell_type": "markdown",
   "id": "c669d30b-a87f-4b67-a39c-0cab0daf8ecc",
   "metadata": {},
   "source": [
    "#### the impact of the delivery method on profit"
   ]
  },
  {
   "cell_type": "code",
   "execution_count": null,
   "id": "0ccb2103-ba55-443a-b4e0-a8b21c1e4e45",
   "metadata": {},
   "outputs": [],
   "source": [
    "order.groupby(['ship_mode'])['profit'].sum().plot(kind='bar')"
   ]
  },
  {
   "cell_type": "markdown",
   "id": "9793acf7-b8b6-46dc-a4df-37ba70595148",
   "metadata": {},
   "source": [
    "#### The analysis of variable correlations"
   ]
  },
  {
   "cell_type": "code",
   "execution_count": 90,
   "id": "d3b61c42-1f64-49ed-8a42-754001f07b57",
   "metadata": {},
   "outputs": [],
   "source": [
    "import seaborn as sns"
   ]
  },
  {
   "cell_type": "code",
   "execution_count": 96,
   "id": "d4dce451-7a95-41d0-93ac-ccdf0e24070a",
   "metadata": {},
   "outputs": [],
   "source": [
    "num_col_df = order[['quantity', 'discount', 'sale_price', 'profit', 'year']]"
   ]
  },
  {
   "cell_type": "code",
   "execution_count": 98,
   "id": "9fc9a12d-832b-4696-ab2e-eba4845b0b99",
   "metadata": {},
   "outputs": [
    {
     "data": {
      "text/html": [
       "<div>\n",
       "<style scoped>\n",
       "    .dataframe tbody tr th:only-of-type {\n",
       "        vertical-align: middle;\n",
       "    }\n",
       "\n",
       "    .dataframe tbody tr th {\n",
       "        vertical-align: top;\n",
       "    }\n",
       "\n",
       "    .dataframe thead th {\n",
       "        text-align: right;\n",
       "    }\n",
       "</style>\n",
       "<table border=\"1\" class=\"dataframe\">\n",
       "  <thead>\n",
       "    <tr style=\"text-align: right;\">\n",
       "      <th></th>\n",
       "      <th>quantity</th>\n",
       "      <th>discount</th>\n",
       "      <th>sale_price</th>\n",
       "      <th>profit</th>\n",
       "      <th>year</th>\n",
       "    </tr>\n",
       "  </thead>\n",
       "  <tbody>\n",
       "    <tr>\n",
       "      <th>0</th>\n",
       "      <td>2</td>\n",
       "      <td>5.2</td>\n",
       "      <td>254.8</td>\n",
       "      <td>14.8</td>\n",
       "      <td>2023</td>\n",
       "    </tr>\n",
       "    <tr>\n",
       "      <th>1</th>\n",
       "      <td>3</td>\n",
       "      <td>21.9</td>\n",
       "      <td>708.1</td>\n",
       "      <td>108.1</td>\n",
       "      <td>2023</td>\n",
       "    </tr>\n",
       "    <tr>\n",
       "      <th>2</th>\n",
       "      <td>2</td>\n",
       "      <td>0.5</td>\n",
       "      <td>9.5</td>\n",
       "      <td>-0.5</td>\n",
       "      <td>2023</td>\n",
       "    </tr>\n",
       "    <tr>\n",
       "      <th>3</th>\n",
       "      <td>5</td>\n",
       "      <td>19.2</td>\n",
       "      <td>940.8</td>\n",
       "      <td>160.8</td>\n",
       "      <td>2022</td>\n",
       "    </tr>\n",
       "    <tr>\n",
       "      <th>4</th>\n",
       "      <td>2</td>\n",
       "      <td>1.0</td>\n",
       "      <td>19.0</td>\n",
       "      <td>-1.0</td>\n",
       "      <td>2022</td>\n",
       "    </tr>\n",
       "  </tbody>\n",
       "</table>\n",
       "</div>"
      ],
      "text/plain": [
       "   quantity  discount  sale_price  profit  year\n",
       "0         2       5.2       254.8    14.8  2023\n",
       "1         3      21.9       708.1   108.1  2023\n",
       "2         2       0.5         9.5    -0.5  2023\n",
       "3         5      19.2       940.8   160.8  2022\n",
       "4         2       1.0        19.0    -1.0  2022"
      ]
     },
     "execution_count": 98,
     "metadata": {},
     "output_type": "execute_result"
    }
   ],
   "source": [
    "num_col_df.head()"
   ]
  },
  {
   "cell_type": "code",
   "execution_count": 100,
   "id": "e51a26b7-0e59-45cc-beac-74daf1949f07",
   "metadata": {},
   "outputs": [],
   "source": [
    "correlation_matrix = num_col_df.corr()"
   ]
  },
  {
   "cell_type": "code",
   "execution_count": 102,
   "id": "421f2349-8073-4368-b70d-4f16e291b0f3",
   "metadata": {},
   "outputs": [
    {
     "name": "stdout",
     "output_type": "stream",
     "text": [
      "            quantity  discount  sale_price    profit      year\n",
      "quantity    1.000000  0.198502    0.200574  0.162755  0.001087\n",
      "discount    0.198502  1.000000    0.948910  0.833228 -0.000894\n",
      "sale_price  0.200574  0.948910    1.000000  0.891673  0.007058\n",
      "profit      0.162755  0.833228    0.891673  1.000000  0.004927\n",
      "year        0.001087 -0.000894    0.007058  0.004927  1.000000\n"
     ]
    }
   ],
   "source": [
    "print(correlation_matrix)"
   ]
  },
  {
   "cell_type": "code",
   "execution_count": 106,
   "id": "2ab02f20-55c0-4636-8109-b4c64ba08199",
   "metadata": {},
   "outputs": [],
   "source": [
    "import matplotlib.pyplot as plt"
   ]
  },
  {
   "cell_type": "code",
   "execution_count": 113,
   "id": "5eec5309-807c-4fb8-87a3-7a7f486c596e",
   "metadata": {},
   "outputs": [
    {
     "data": {
      "image/png": "[encoded data removed]",
      "text/plain": [
       "<Figure size 1000x800 with 2 Axes>"
      ]
     },
     "metadata": {},
     "output_type": "display_data"
    }
   ],
   "source": [
    "plt.figure(figsize=(10, 8))\n",
    "sns.heatmap(correlation_matrix, annot=True, cmap='coolwarm', fmt=\".2f\")\n",
    "plt.title('correlation matrix')\n",
    "plt.show()"
   ]
  },
  {
   "cell_type": "code",
   "execution_count": null,
   "id": "d858a599-ae35-4298-870f-26cfa7053f4c",
   "metadata": {},
   "outputs": [],
   "source": []
  }
 ],
 "metadata": {
  "kernelspec": {
   "display_name": "Python 3 (ipykernel)",
   "language": "python",
   "name": "python3"
  },
  "language_info": {
   "codemirror_mode": {
    "name": "ipython",
    "version": 3
   },
   "file_extension": ".py",
   "mimetype": "text/x-python",
   "name": "python",
   "nbconvert_exporter": "python",
   "pygments_lexer": "ipython3",
   "version": "3.12.4"
  }
 },
 "nbformat": 4,
 "nbformat_minor": 5
}
